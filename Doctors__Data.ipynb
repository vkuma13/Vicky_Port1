{
  "nbformat": 4,
  "nbformat_minor": 0,
  "metadata": {
    "colab": {
      "provenance": [],
      "authorship_tag": "ABX9TyMY/RhxTzLs0xCmfIJ6RY7W",
      "include_colab_link": true
    },
    "kernelspec": {
      "name": "python3",
      "display_name": "Python 3"
    },
    "language_info": {
      "name": "python"
    }
  },
  "cells": [
    {
      "cell_type": "markdown",
      "metadata": {
        "id": "view-in-github",
        "colab_type": "text"
      },
      "source": [
        "<a href=\"https://colab.research.google.com/github/vkuma13/Vicky_Port1/blob/main/Doctors__Data.ipynb\" target=\"_parent\"><img src=\"https://colab.research.google.com/assets/colab-badge.svg\" alt=\"Open In Colab\"/></a>"
      ]
    },
    {
      "cell_type": "code",
      "metadata": {
        "id": "kcBSaUseYKR5"
      },
      "source": [
        "# using the BeautifulSoup for data scarping\n",
        "import requests\n",
        "from bs4 import BeautifulSoup\n",
        "URL = 'https://kmchhospitals.com/doctors-contact-numbers/'\n",
        "r = requests.get(URL)\n",
        "soup = BeautifulSoup(r.content,'html5lib')\n",
        "\n",
        "\n"
      ],
      "execution_count": null,
      "outputs": []
    },
    {
      "cell_type": "code",
      "metadata": {
        "colab": {
          "base_uri": "https://localhost:8080/"
        },
        "id": "X1cvGYuAYSsy",
        "outputId": "7603a3d5-7a8b-49cb-ece7-078514d12472"
      },
      "source": [
        "# Accessing the data in URL\n",
        "count=0\n",
        "Table = soup.find('div',class_ = \"single-col\" )\n",
        "# Defining the Dr name and Phone no\n",
        "Dr_name_html =  Table.find_all('td',attrs={'class':'column-1'})  \n",
        "Dr_Mobile_html = Table.find_all('td',attrs={'class':'column-2'})\n",
        "for i in Dr_name_html:\n",
        "  for j in Dr_Mobile_html:\n",
        "    #Converting the html to text\n",
        "    a = i.text\n",
        "    b = j.text\n",
        "    c = [\" Doctor name is {},Phone no: {}\".format(a,b)]\n",
        "  for k in c:\n",
        "    count=count+1\n",
        "  print(count,c)\n",
        "\n",
        "  \n",
        "  \n",
        "\n",
        "\n",
        "    \n",
        "    \n",
        "\n",
        "\n",
        "\n",
        "\n",
        "\n"
      ],
      "execution_count": null,
      "outputs": [
        {
          "output_type": "stream",
          "name": "stdout",
          "text": [
            "1 [' Doctor name is Dr. Anandan.M,Phone no: 0422-4323800']\n",
            "2 [' Doctor name is Dr. Anbukkani Subbian,Phone no: 0422-4323800']\n",
            "3 [' Doctor name is Dr. Aravindh.S,Phone no: 0422-4323800']\n",
            "4 [' Doctor name is Dr.Arshad Ahmed ,Phone no: 0422-4323800']\n",
            "5 [' Doctor name is Dr.Arulraj Ramakrishnan,Phone no: 0422-4323800']\n",
            "6 [' Doctor name is Dr.Ashwath.D,Phone no: 0422-4323800']\n",
            "7 [' Doctor name is Dr.Athima Pathak,Phone no: 0422-4323800']\n",
            "8 [' Doctor name is Dr.Babu Krishnamoorthy,Phone no: 0422-4323800']\n",
            "9 [' Doctor name is Dr.Bala Krishnan.R,Phone no: 0422-4323800']\n",
            "10 [' Doctor name is Dr.Balasundaram.S,Phone no: 0422-4323800']\n",
            "11 [' Doctor name is Dr.Baranikumar.P.B,Phone no: 0422-4323800']\n",
            "12 [' Doctor name is Dr.Baskar.P (Neuro),Phone no: 0422-4323800']\n",
            "13 [' Doctor name is Dr.Baskaran.K (Ortho),Phone no: 0422-4323800']\n",
            "14 [' Doctor name is Dr.Bharath Rangarajan,Phone no: 0422-4323800']\n",
            "15 [' Doctor name is Dr.Deepak.T.H – Pulmonologist,Phone no: 0422-4323800']\n",
            "16 [' Doctor name is Dr.Devdas Madhavan,Phone no: 0422-4323800']\n",
            "17 [' Doctor name is Dr.Dhatchinamoorthi.D,Phone no: 0422-4323800']\n",
            "18 [' Doctor name is Dr.Dhevasena.C.S,Phone no: 0422-4323800']\n",
            "19 [' Doctor name is Dr.Dhiwakar.M,Phone no: 0422-4323800']\n",
            "20 [\" Doctor name is Dr.Edmund M. D'Couto,Phone no: 0422-4323800\"]\n",
            "21 [' Doctor name is Dr.Elankumar Subbarayan,Phone no: 0422-4323800']\n",
            "22 [' Doctor name is DR. EZHIR SELVAN C,Phone no: 0422-4323800']\n",
            "23 [' Doctor name is Dr.Firoz Rajan,Phone no: 0422-4323800']\n",
            "24 [' Doctor name is Dr.Ganesan.A,Phone no: 0422-4323800']\n",
            "25 [' Doctor name is Dr.Ganesan.D (Neuro),Phone no: 0422-4323800']\n",
            "26 [' Doctor name is Dr.Gunaseelan. K.R.,Phone no: 0422-4323800']\n",
            "27 [' Doctor name is Dr.Gowrishankar.E.S,Phone no: 0422-4323800']\n",
            "28 [' Doctor name is Dr.Jayanthi Veerappan,Phone no: 0422-4323800']\n",
            "29 [' Doctor name is Dr.Jeevankumar.B,Phone no: 0422-4323800']\n",
            "30 [' Doctor name is Dr.Jivan Chandra. L,Phone no: 0422-4323800']\n",
            "31 [' Doctor name is Dr.Joseph.K.I,Phone no: 0422-4323800']\n",
            "32 [' Doctor name is Dr.Jnanesh Thacker,Phone no: 0422-4323800']\n",
            "33 [' Doctor name is Dr.Kamaleshwaran.K.K,Phone no: 0422-4323800']\n",
            "34 [' Doctor name is Dr.Kandasamy.S.,Phone no: 0422-4323800']\n",
            "35 [' Doctor name is Dr.Kannaki Uthraraj.C.V,Phone no: 0422-4323800']\n",
            "36 [' Doctor name is Dr.Krishnan Swaminathan,Phone no: 0422-4323800']\n",
            "37 [' Doctor name is Dr.Kuppurajan.N,Phone no: 0422-4323800']\n",
            "38 [' Doctor name is Dr.Lawrance Jesuraj,Phone no: 0422-4323800']\n",
            "39 [' Doctor name is Dr.Lenin Babu.V,Phone no: 0422-4323800']\n",
            "40 [' Doctor name is Dr.Madhusairam.R,Phone no: 0422-4323800']\n",
            "41 [' Doctor name is Dr.Madhav Venkatesan,Phone no: 0422-4323800']\n",
            "42 [' Doctor name is Dr.Maheswaran Pitchaimuthu,Phone no: 0422-4323800']\n",
            "43 [' Doctor name is Dr.Mangala Kumar.V,Phone no: 0422-4323800']\n",
            "44 [' Doctor name is Dr.Manohar.A,Phone no: 0422-4323800']\n",
            "45 [' Doctor name is Dr.Manonmani.G,Phone no: 0422-4323800']\n",
            "46 [' Doctor name is Dr.Minoti.S.Kale,Phone no: 0422-4323800']\n",
            "47 [' Doctor name is Dr.Mohan.M,Phone no: 0422-4323800']\n",
            "48 [' Doctor name is Dr.Murugan.A.N,Phone no: 0422-4323800']\n",
            "49 [' Doctor name is Dr.Naga Kumaran,Phone no: 0422-4323800']\n",
            "50 [' Doctor name is Dr.Pankaj Mehta,Phone no: 0422-4323800']\n",
            "51 [' Doctor name is Dr.Paramasivan O.N,Phone no: 0422-4323800']\n",
            "52 [' Doctor name is Dr.Paari Vijayaragavan,Phone no: 0422-4323800']\n",
            "53 [' Doctor name is Dr.Parthiban.J.K.B.C,Phone no: 0422-4323800']\n",
            "54 [' Doctor name is Dr.Pavithra.S,Phone no: 0422-4323800']\n",
            "55 [' Doctor name is Dr.Pounraju.K,Phone no: 0422-4323800']\n",
            "56 [' Doctor name is Dr.Pradeep Kumar. M,Phone no: 0422-4323800']\n",
            "57 [' Doctor name is Dr.Prakash,Phone no: 0422-4323800']\n",
            "58 [' Doctor name is Dr.Prasanth vaijayanath,Phone no: 0422-4323800']\n",
            "59 [' Doctor name is Dr. J. Priya Paari,Phone no: 0422-4323800']\n",
            "60 [' Doctor name is Dr.Rajamani.V,Phone no: 0422-4323800']\n",
            "61 [' Doctor name is Dr.Rajasekar.T,Phone no: 0422-4323800']\n",
            "62 [' Doctor name is Dr.Rajendran.K (Anae),Phone no: 0422-4323800']\n",
            "63 [' Doctor name is Dr.Rajendran.K (Paed),Phone no: 0422-4323800']\n",
            "64 [' Doctor name is Dr.Rajkumar.K.S.,Phone no: 0422-4323800']\n",
            "65 [' Doctor name is Dr.Rajesh Shankar Iyer,Phone no: 0422-4323800']\n",
            "66 [' Doctor name is Dr.Rama Prabhahari,Phone no: 0422-4323800']\n",
            "67 [' Doctor name is Dr.Ramanathan RM. PL. ,Phone no: 0422-4323800']\n",
            "68 [' Doctor name is Dr.Ramani Kanth .T.V,Phone no: 0422-4323800']\n",
            "69 [' Doctor name is Dr.Ramani Kumar .V,Phone no: 0422-4323800']\n",
            "70 [' Doctor name is Dr.Renukadevi. R,Phone no: 0422-4323800']\n",
            "71 [' Doctor name is Dr.Rohit Balasubramanian,Phone no: 0422-4323800']\n",
            "72 [' Doctor name is Dr.Sangita Mehta,Phone no: 0422-4323800']\n",
            "73 [' Doctor name is Dr.Santha Kumar,Phone no: 0422-4323800']\n",
            "74 [' Doctor name is Dr.Sara.V.Thomas,Phone no: 0422-4323800']\n",
            "75 [' Doctor name is Dr.Saravanan.D.M.T,Phone no: 0422-4323800']\n",
            "76 [' Doctor name is Dr.Sathesh Kumar.T,Phone no: 0422-4323800']\n",
            "77 [' Doctor name is Dr.Selvarajan.N -,Phone no: 0422-4323800']\n",
            "78 [' Doctor name is Dr.SenthilKumar.E,Phone no: 0422-4323800']\n",
            "79 [' Doctor name is Dr.Shankar Dhandapani,Phone no: 0422-4323800']\n",
            "80 [' Doctor name is Dr.Sharavanan.G.M,Phone no: 0422-4323800']\n",
            "81 [' Doctor name is Dr.Sivagnanam .T.R,Phone no: 0422-4323800']\n",
            "82 [' Doctor name is Dr.Sivakumar.M.K,Phone no: 0422-4323800']\n",
            "83 [' Doctor name is Dr.Smitha Ashok,Phone no: 0422-4323800']\n",
            "84 [' Doctor name is Dr.Sreedharan Namboothiri,Phone no: 0422-4323800']\n",
            "85 [' Doctor name is Dr.Srinivas.A.R,Phone no: 0422-4323800']\n",
            "86 [' Doctor name is Dr.Srinivasan.D,Phone no: 0422-4323800']\n",
            "87 [' Doctor name is Dr. R. Srinidhi Nithyanand,Phone no: 0422-4323800']\n",
            "88 [' Doctor name is Dr.Subash Kale,Phone no: 0422-4323800']\n",
            "89 [' Doctor name is Dr.Subramaniam.R,Phone no: 0422-4323800']\n",
            "90 [' Doctor name is Dr.Sujatha Chinnappan,Phone no: 0422-4323800']\n",
            "91 [' Doctor name is Dr.Sumathi,Phone no: 0422-4323800']\n",
            "92 [' Doctor name is Dr.Suresh Jayabalan,Phone no: 0422-4323800']\n",
            "93 [' Doctor name is Dr.Suresh Kumar.R,Phone no: 0422-4323800']\n",
            "94 [' Doctor name is Dr.Thennavan.A.S.,Phone no: 0422-4323800']\n",
            "95 [' Doctor name is Dr.Thirumalaisamy.S.G.,Phone no: 0422-4323800']\n",
            "96 [' Doctor name is Dr.Thomas Alexander,Phone no: 0422-4323800']\n",
            "97 [' Doctor name is Dr.Thomas.K.Abraham,Phone no: 0422-4323800']\n",
            "98 [' Doctor name is Dr.Varun Sundaramoorthy,Phone no: 0422-4323800']\n",
            "99 [' Doctor name is Dr.Velam Thennavan,Phone no: 0422-4323800']\n",
            "100 [' Doctor name is Dr.Venkatesh.K,Phone no: 0422-4323800']\n",
            "101 [' Doctor name is Dr.Venugopal.J,Phone no: 0422-4323800']\n",
            "102 [' Doctor name is Dr.Vidhya Rajeev Jahagirdar,Phone no: 0422-4323800']\n",
            "103 [' Doctor name is Dr.Vignesh Kandhakumar,Phone no: 0422-4323800']\n",
            "104 [' Doctor name is Dr.Vijay Anand.N,Phone no: 0422-4323800']\n",
            "105 [' Doctor name is Dr.Vikraman . G,Phone no: 0422-4323800']\n",
            "106 [' Doctor name is Dr.Vivek Pathak,Phone no: 0422-4323800']\n",
            "107 [' Doctor name is Dr.K. Sibi Thooran,Phone no: 0422-4323800']\n"
          ]
        }
      ]
    },
    {
      "cell_type": "markdown",
      "metadata": {
        "id": "erTugXx42YcG"
      },
      "source": [
        "##  Getting the Data from the PDF and CSV "
      ]
    },
    {
      "cell_type": "code",
      "metadata": {
        "id": "2OFNkDS8OSnz",
        "colab": {
          "base_uri": "https://localhost:8080/"
        },
        "outputId": "ca073bb5-3a81-45bf-c2e9-dd63f02aa2dc"
      },
      "source": [],
      "execution_count": null,
      "outputs": [
        {
          "output_type": "stream",
          "name": "stdout",
          "text": [
            "Requirement already satisfied: tabula-py in /usr/local/lib/python3.7/dist-packages (2.3.0)\n",
            "Requirement already satisfied: numpy in /usr/local/lib/python3.7/dist-packages (from tabula-py) (1.19.5)\n",
            "Requirement already satisfied: pandas>=0.25.3 in /usr/local/lib/python3.7/dist-packages (from tabula-py) (1.1.5)\n",
            "Requirement already satisfied: distro in /usr/local/lib/python3.7/dist-packages (from tabula-py) (1.6.0)\n",
            "Requirement already satisfied: python-dateutil>=2.7.3 in /usr/local/lib/python3.7/dist-packages (from pandas>=0.25.3->tabula-py) (2.8.2)\n",
            "Requirement already satisfied: pytz>=2017.2 in /usr/local/lib/python3.7/dist-packages (from pandas>=0.25.3->tabula-py) (2018.9)\n",
            "Requirement already satisfied: six>=1.5 in /usr/local/lib/python3.7/dist-packages (from python-dateutil>=2.7.3->pandas>=0.25.3->tabula-py) (1.15.0)\n"
          ]
        }
      ]
    },
    {
      "cell_type": "code",
      "metadata": {
        "colab": {
          "base_uri": "https://localhost:8080/"
        },
        "id": "8d0TCIYB22N0",
        "outputId": "85e6788e-f826-4216-b06c-78a04cd3fa63"
      },
      "source": [],
      "execution_count": null,
      "outputs": [
        {
          "output_type": "execute_result",
          "data": {
            "text/plain": [
              "[   Unnamed: 0           Unnamed: 1  ... Unnamed: 4        Unnamed: 5\n",
              " 0         SL.  NAME OF THE OFFICE/  ...        NaN               NaN\n",
              " 1         NaN                  NaN  ...        NaN         PHONE NO.\n",
              " 2         NO.          INSTITUTION  ...        NaN               NaN\n",
              " 3         NaN                  NaN  ...        NaN               NaN\n",
              " 4         NaN                  NaN  ...        NaN          RESIDENC\n",
              " ..        ...                  ...  ...        ...               ...\n",
              " 61        NaN      GH, CHIDAMBARAM  ...        NaN               NaN\n",
              " 62        NaN                  NaN  ...        NaN               NaN\n",
              " 63        NaN                  NaN  ...     223099    NIL 9443988632\n",
              " 64        NaN                  NaN  ...        NaN               NaN\n",
              " 65        NaN                  NaN  ...     230326  262679 944336279\n",
              " \n",
              " [66 rows x 7 columns]]"
            ]
          },
          "metadata": {},
          "execution_count": 21
        }
      ]
    },
    {
      "cell_type": "code",
      "metadata": {
        "colab": {
          "base_uri": "https://localhost:8080/"
        },
        "id": "tYzBw9ZD3O6D",
        "outputId": "db6895b4-2433-4bc2-d62c-11684f8d4990"
      },
      "source": [],
      "execution_count": null,
      "outputs": [
        {
          "output_type": "stream",
          "name": "stdout",
          "text": [
            "   Unnamed: 0           Unnamed: 1  ... Unnamed: 4        Unnamed: 5\n",
            "0         SL.  NAME OF THE OFFICE/  ...        NaN               NaN\n",
            "1         NaN                  NaN  ...        NaN         PHONE NO.\n",
            "2         NO.          INSTITUTION  ...        NaN               NaN\n",
            "3         NaN                  NaN  ...        NaN               NaN\n",
            "4         NaN                  NaN  ...        NaN          RESIDENC\n",
            "..        ...                  ...  ...        ...               ...\n",
            "61        NaN      GH, CHIDAMBARAM  ...        NaN               NaN\n",
            "62        NaN                  NaN  ...        NaN               NaN\n",
            "63        NaN                  NaN  ...     223099    NIL 9443988632\n",
            "64        NaN                  NaN  ...        NaN               NaN\n",
            "65        NaN                  NaN  ...     230326  262679 944336279\n",
            "\n",
            "[66 rows x 7 columns]\n"
          ]
        }
      ]
    },
    {
      "cell_type": "code",
      "metadata": {
        "colab": {
          "base_uri": "https://localhost:8080/"
        },
        "id": "EeHO6SGl4nYi",
        "outputId": "17419762-ac5e-4939-e74e-7649d69e6fd7"
      },
      "source": [],
      "execution_count": null,
      "outputs": [
        {
          "output_type": "execute_result",
          "data": {
            "text/plain": [
              "<bound method NDFrame.describe of     Unnamed: 0 Unnamed: 0.1  ... Unnamed: 4        Unnamed: 5\n",
              "0            0          SL.  ...        NaN               NaN\n",
              "1            1          NaN  ...        NaN         PHONE NO.\n",
              "2            2          NO.  ...        NaN               NaN\n",
              "3            3          NaN  ...        NaN               NaN\n",
              "4            4          NaN  ...        NaN          RESIDENC\n",
              "..         ...          ...  ...        ...               ...\n",
              "61          61          NaN  ...        NaN               NaN\n",
              "62          62          NaN  ...        NaN               NaN\n",
              "63          63          NaN  ...     223099    NIL 9443988632\n",
              "64          64          NaN  ...        NaN               NaN\n",
              "65          65          NaN  ...     230326  262679 944336279\n",
              "\n",
              "[66 rows x 8 columns]>"
            ]
          },
          "metadata": {},
          "execution_count": 40
        }
      ]
    },
    {
      "cell_type": "code",
      "metadata": {
        "id": "thvh-sbL9EwH"
      },
      "source": [],
      "execution_count": null,
      "outputs": []
    }
  ]
}