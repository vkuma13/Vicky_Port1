{
  "nbformat": 4,
  "nbformat_minor": 0,
  "metadata": {
    "colab": {
      "provenance": [],
      "authorship_tag": "ABX9TyOqwlQiBbYYK+Trl8h/jcTG",
      "include_colab_link": true
    },
    "kernelspec": {
      "name": "python3",
      "display_name": "Python 3"
    },
    "language_info": {
      "name": "python"
    }
  },
  "cells": [
    {
      "cell_type": "markdown",
      "metadata": {
        "id": "view-in-github",
        "colab_type": "text"
      },
      "source": [
        "<a href=\"https://colab.research.google.com/github/vkuma13/Vicky_Port1/blob/main/AMEX_Credit_Card_Default_Prediction.ipynb\" target=\"_parent\"><img src=\"https://colab.research.google.com/assets/colab-badge.svg\" alt=\"Open In Colab\"/></a>"
      ]
    },
    {
      "cell_type": "code",
      "execution_count": null,
      "metadata": {
        "colab": {
          "base_uri": "https://localhost:8080/"
        },
        "id": "4tXkjua1fgGD",
        "outputId": "0fc2625e-5ef3-4859-e56a-0241f8cf5d8b"
      },
      "outputs": [
        {
          "output_type": "stream",
          "name": "stdout",
          "text": [
            "Looking in indexes: https://pypi.org/simple, https://us-python.pkg.dev/colab-wheels/public/simple/\n",
            "Requirement already satisfied: imblearn in /usr/local/lib/python3.7/dist-packages (0.0)\n",
            "Requirement already satisfied: imbalanced-learn in /usr/local/lib/python3.7/dist-packages (from imblearn) (0.8.1)\n",
            "Requirement already satisfied: numpy>=1.13.3 in /usr/local/lib/python3.7/dist-packages (from imbalanced-learn->imblearn) (1.21.6)\n",
            "Requirement already satisfied: joblib>=0.11 in /usr/local/lib/python3.7/dist-packages (from imbalanced-learn->imblearn) (1.2.0)\n",
            "Requirement already satisfied: scipy>=0.19.1 in /usr/local/lib/python3.7/dist-packages (from imbalanced-learn->imblearn) (1.7.3)\n",
            "Requirement already satisfied: scikit-learn>=0.24 in /usr/local/lib/python3.7/dist-packages (from imbalanced-learn->imblearn) (1.0.2)\n",
            "Requirement already satisfied: threadpoolctl>=2.0.0 in /usr/local/lib/python3.7/dist-packages (from scikit-learn>=0.24->imbalanced-learn->imblearn) (3.1.0)\n"
          ]
        }
      ],
      "source": [
        "import pandas as pd\n",
        "import numpy as np\n",
        "import matplotlib.pyplot as plt\n",
        "!pip install imblearn\n",
        "from imblearn.over_sampling import SMOTE\n",
        "from random import shuffle\n",
        "from sklearn.preprocessing import LabelEncoder\n",
        "from sklearn.model_selection import train_test_split\n",
        "from sklearn.metrics import accuracy_score, precision_score, recall_score, confusion_matrix, ConfusionMatrixDisplay\n",
        "from sklearn.ensemble import RandomForestClassifier\n",
        "\n",
        "import zipfile"
      ]
    },
    {
      "cell_type": "code",
      "source": [
        "data = pd.read_csv('/content/train.csv')\n",
        "\n",
        "data\n",
        "\n",
        "\n",
        "\n",
        "\n"
      ],
      "metadata": {
        "colab": {
          "base_uri": "https://localhost:8080/",
          "height": 397
        },
        "id": "ILnziCptg5vy",
        "outputId": "bb7b9864-6f7a-42b2-ac70-16c51922eca7"
      },
      "execution_count": null,
      "outputs": [
        {
          "output_type": "error",
          "ename": "FileNotFoundError",
          "evalue": "ignored",
          "traceback": [
            "\u001b[0;31m---------------------------------------------------------------------------\u001b[0m",
            "\u001b[0;31mFileNotFoundError\u001b[0m                         Traceback (most recent call last)",
            "\u001b[0;32m<ipython-input-6-cdc7324e0ba5>\u001b[0m in \u001b[0;36m<module>\u001b[0;34m\u001b[0m\n\u001b[0;32m----> 1\u001b[0;31m \u001b[0mdata\u001b[0m \u001b[0;34m=\u001b[0m \u001b[0mpd\u001b[0m\u001b[0;34m.\u001b[0m\u001b[0mread_csv\u001b[0m\u001b[0;34m(\u001b[0m\u001b[0;34m'/content/train.csv'\u001b[0m\u001b[0;34m)\u001b[0m\u001b[0;34m\u001b[0m\u001b[0;34m\u001b[0m\u001b[0m\n\u001b[0m\u001b[1;32m      2\u001b[0m \u001b[0;34m\u001b[0m\u001b[0m\n\u001b[1;32m      3\u001b[0m \u001b[0mdata\u001b[0m\u001b[0;34m\u001b[0m\u001b[0;34m\u001b[0m\u001b[0m\n\u001b[1;32m      4\u001b[0m \u001b[0;34m\u001b[0m\u001b[0m\n\u001b[1;32m      5\u001b[0m \u001b[0;34m\u001b[0m\u001b[0m\n",
            "\u001b[0;32m/usr/local/lib/python3.7/dist-packages/pandas/util/_decorators.py\u001b[0m in \u001b[0;36mwrapper\u001b[0;34m(*args, **kwargs)\u001b[0m\n\u001b[1;32m    309\u001b[0m                     \u001b[0mstacklevel\u001b[0m\u001b[0;34m=\u001b[0m\u001b[0mstacklevel\u001b[0m\u001b[0;34m,\u001b[0m\u001b[0;34m\u001b[0m\u001b[0;34m\u001b[0m\u001b[0m\n\u001b[1;32m    310\u001b[0m                 )\n\u001b[0;32m--> 311\u001b[0;31m             \u001b[0;32mreturn\u001b[0m \u001b[0mfunc\u001b[0m\u001b[0;34m(\u001b[0m\u001b[0;34m*\u001b[0m\u001b[0margs\u001b[0m\u001b[0;34m,\u001b[0m \u001b[0;34m**\u001b[0m\u001b[0mkwargs\u001b[0m\u001b[0;34m)\u001b[0m\u001b[0;34m\u001b[0m\u001b[0;34m\u001b[0m\u001b[0m\n\u001b[0m\u001b[1;32m    312\u001b[0m \u001b[0;34m\u001b[0m\u001b[0m\n\u001b[1;32m    313\u001b[0m         \u001b[0;32mreturn\u001b[0m \u001b[0mwrapper\u001b[0m\u001b[0;34m\u001b[0m\u001b[0;34m\u001b[0m\u001b[0m\n",
            "\u001b[0;32m/usr/local/lib/python3.7/dist-packages/pandas/io/parsers/readers.py\u001b[0m in \u001b[0;36mread_csv\u001b[0;34m(filepath_or_buffer, sep, delimiter, header, names, index_col, usecols, squeeze, prefix, mangle_dupe_cols, dtype, engine, converters, true_values, false_values, skipinitialspace, skiprows, skipfooter, nrows, na_values, keep_default_na, na_filter, verbose, skip_blank_lines, parse_dates, infer_datetime_format, keep_date_col, date_parser, dayfirst, cache_dates, iterator, chunksize, compression, thousands, decimal, lineterminator, quotechar, quoting, doublequote, escapechar, comment, encoding, encoding_errors, dialect, error_bad_lines, warn_bad_lines, on_bad_lines, delim_whitespace, low_memory, memory_map, float_precision, storage_options)\u001b[0m\n\u001b[1;32m    584\u001b[0m     \u001b[0mkwds\u001b[0m\u001b[0;34m.\u001b[0m\u001b[0mupdate\u001b[0m\u001b[0;34m(\u001b[0m\u001b[0mkwds_defaults\u001b[0m\u001b[0;34m)\u001b[0m\u001b[0;34m\u001b[0m\u001b[0;34m\u001b[0m\u001b[0m\n\u001b[1;32m    585\u001b[0m \u001b[0;34m\u001b[0m\u001b[0m\n\u001b[0;32m--> 586\u001b[0;31m     \u001b[0;32mreturn\u001b[0m \u001b[0m_read\u001b[0m\u001b[0;34m(\u001b[0m\u001b[0mfilepath_or_buffer\u001b[0m\u001b[0;34m,\u001b[0m \u001b[0mkwds\u001b[0m\u001b[0;34m)\u001b[0m\u001b[0;34m\u001b[0m\u001b[0;34m\u001b[0m\u001b[0m\n\u001b[0m\u001b[1;32m    587\u001b[0m \u001b[0;34m\u001b[0m\u001b[0m\n\u001b[1;32m    588\u001b[0m \u001b[0;34m\u001b[0m\u001b[0m\n",
            "\u001b[0;32m/usr/local/lib/python3.7/dist-packages/pandas/io/parsers/readers.py\u001b[0m in \u001b[0;36m_read\u001b[0;34m(filepath_or_buffer, kwds)\u001b[0m\n\u001b[1;32m    480\u001b[0m \u001b[0;34m\u001b[0m\u001b[0m\n\u001b[1;32m    481\u001b[0m     \u001b[0;31m# Create the parser.\u001b[0m\u001b[0;34m\u001b[0m\u001b[0;34m\u001b[0m\u001b[0;34m\u001b[0m\u001b[0m\n\u001b[0;32m--> 482\u001b[0;31m     \u001b[0mparser\u001b[0m \u001b[0;34m=\u001b[0m \u001b[0mTextFileReader\u001b[0m\u001b[0;34m(\u001b[0m\u001b[0mfilepath_or_buffer\u001b[0m\u001b[0;34m,\u001b[0m \u001b[0;34m**\u001b[0m\u001b[0mkwds\u001b[0m\u001b[0;34m)\u001b[0m\u001b[0;34m\u001b[0m\u001b[0;34m\u001b[0m\u001b[0m\n\u001b[0m\u001b[1;32m    483\u001b[0m \u001b[0;34m\u001b[0m\u001b[0m\n\u001b[1;32m    484\u001b[0m     \u001b[0;32mif\u001b[0m \u001b[0mchunksize\u001b[0m \u001b[0;32mor\u001b[0m \u001b[0miterator\u001b[0m\u001b[0;34m:\u001b[0m\u001b[0;34m\u001b[0m\u001b[0;34m\u001b[0m\u001b[0m\n",
            "\u001b[0;32m/usr/local/lib/python3.7/dist-packages/pandas/io/parsers/readers.py\u001b[0m in \u001b[0;36m__init__\u001b[0;34m(self, f, engine, **kwds)\u001b[0m\n\u001b[1;32m    809\u001b[0m             \u001b[0mself\u001b[0m\u001b[0;34m.\u001b[0m\u001b[0moptions\u001b[0m\u001b[0;34m[\u001b[0m\u001b[0;34m\"has_index_names\"\u001b[0m\u001b[0;34m]\u001b[0m \u001b[0;34m=\u001b[0m \u001b[0mkwds\u001b[0m\u001b[0;34m[\u001b[0m\u001b[0;34m\"has_index_names\"\u001b[0m\u001b[0;34m]\u001b[0m\u001b[0;34m\u001b[0m\u001b[0;34m\u001b[0m\u001b[0m\n\u001b[1;32m    810\u001b[0m \u001b[0;34m\u001b[0m\u001b[0m\n\u001b[0;32m--> 811\u001b[0;31m         \u001b[0mself\u001b[0m\u001b[0;34m.\u001b[0m\u001b[0m_engine\u001b[0m \u001b[0;34m=\u001b[0m \u001b[0mself\u001b[0m\u001b[0;34m.\u001b[0m\u001b[0m_make_engine\u001b[0m\u001b[0;34m(\u001b[0m\u001b[0mself\u001b[0m\u001b[0;34m.\u001b[0m\u001b[0mengine\u001b[0m\u001b[0;34m)\u001b[0m\u001b[0;34m\u001b[0m\u001b[0;34m\u001b[0m\u001b[0m\n\u001b[0m\u001b[1;32m    812\u001b[0m \u001b[0;34m\u001b[0m\u001b[0m\n\u001b[1;32m    813\u001b[0m     \u001b[0;32mdef\u001b[0m \u001b[0mclose\u001b[0m\u001b[0;34m(\u001b[0m\u001b[0mself\u001b[0m\u001b[0;34m)\u001b[0m\u001b[0;34m:\u001b[0m\u001b[0;34m\u001b[0m\u001b[0;34m\u001b[0m\u001b[0m\n",
            "\u001b[0;32m/usr/local/lib/python3.7/dist-packages/pandas/io/parsers/readers.py\u001b[0m in \u001b[0;36m_make_engine\u001b[0;34m(self, engine)\u001b[0m\n\u001b[1;32m   1038\u001b[0m             )\n\u001b[1;32m   1039\u001b[0m         \u001b[0;31m# error: Too many arguments for \"ParserBase\"\u001b[0m\u001b[0;34m\u001b[0m\u001b[0;34m\u001b[0m\u001b[0;34m\u001b[0m\u001b[0m\n\u001b[0;32m-> 1040\u001b[0;31m         \u001b[0;32mreturn\u001b[0m \u001b[0mmapping\u001b[0m\u001b[0;34m[\u001b[0m\u001b[0mengine\u001b[0m\u001b[0;34m]\u001b[0m\u001b[0;34m(\u001b[0m\u001b[0mself\u001b[0m\u001b[0;34m.\u001b[0m\u001b[0mf\u001b[0m\u001b[0;34m,\u001b[0m \u001b[0;34m**\u001b[0m\u001b[0mself\u001b[0m\u001b[0;34m.\u001b[0m\u001b[0moptions\u001b[0m\u001b[0;34m)\u001b[0m  \u001b[0;31m# type: ignore[call-arg]\u001b[0m\u001b[0;34m\u001b[0m\u001b[0;34m\u001b[0m\u001b[0m\n\u001b[0m\u001b[1;32m   1041\u001b[0m \u001b[0;34m\u001b[0m\u001b[0m\n\u001b[1;32m   1042\u001b[0m     \u001b[0;32mdef\u001b[0m \u001b[0m_failover_to_python\u001b[0m\u001b[0;34m(\u001b[0m\u001b[0mself\u001b[0m\u001b[0;34m)\u001b[0m\u001b[0;34m:\u001b[0m\u001b[0;34m\u001b[0m\u001b[0;34m\u001b[0m\u001b[0m\n",
            "\u001b[0;32m/usr/local/lib/python3.7/dist-packages/pandas/io/parsers/c_parser_wrapper.py\u001b[0m in \u001b[0;36m__init__\u001b[0;34m(self, src, **kwds)\u001b[0m\n\u001b[1;32m     49\u001b[0m \u001b[0;34m\u001b[0m\u001b[0m\n\u001b[1;32m     50\u001b[0m         \u001b[0;31m# open handles\u001b[0m\u001b[0;34m\u001b[0m\u001b[0;34m\u001b[0m\u001b[0;34m\u001b[0m\u001b[0m\n\u001b[0;32m---> 51\u001b[0;31m         \u001b[0mself\u001b[0m\u001b[0;34m.\u001b[0m\u001b[0m_open_handles\u001b[0m\u001b[0;34m(\u001b[0m\u001b[0msrc\u001b[0m\u001b[0;34m,\u001b[0m \u001b[0mkwds\u001b[0m\u001b[0;34m)\u001b[0m\u001b[0;34m\u001b[0m\u001b[0;34m\u001b[0m\u001b[0m\n\u001b[0m\u001b[1;32m     52\u001b[0m         \u001b[0;32massert\u001b[0m \u001b[0mself\u001b[0m\u001b[0;34m.\u001b[0m\u001b[0mhandles\u001b[0m \u001b[0;32mis\u001b[0m \u001b[0;32mnot\u001b[0m \u001b[0;32mNone\u001b[0m\u001b[0;34m\u001b[0m\u001b[0;34m\u001b[0m\u001b[0m\n\u001b[1;32m     53\u001b[0m \u001b[0;34m\u001b[0m\u001b[0m\n",
            "\u001b[0;32m/usr/local/lib/python3.7/dist-packages/pandas/io/parsers/base_parser.py\u001b[0m in \u001b[0;36m_open_handles\u001b[0;34m(self, src, kwds)\u001b[0m\n\u001b[1;32m    227\u001b[0m             \u001b[0mmemory_map\u001b[0m\u001b[0;34m=\u001b[0m\u001b[0mkwds\u001b[0m\u001b[0;34m.\u001b[0m\u001b[0mget\u001b[0m\u001b[0;34m(\u001b[0m\u001b[0;34m\"memory_map\"\u001b[0m\u001b[0;34m,\u001b[0m \u001b[0;32mFalse\u001b[0m\u001b[0;34m)\u001b[0m\u001b[0;34m,\u001b[0m\u001b[0;34m\u001b[0m\u001b[0;34m\u001b[0m\u001b[0m\n\u001b[1;32m    228\u001b[0m             \u001b[0mstorage_options\u001b[0m\u001b[0;34m=\u001b[0m\u001b[0mkwds\u001b[0m\u001b[0;34m.\u001b[0m\u001b[0mget\u001b[0m\u001b[0;34m(\u001b[0m\u001b[0;34m\"storage_options\"\u001b[0m\u001b[0;34m,\u001b[0m \u001b[0;32mNone\u001b[0m\u001b[0;34m)\u001b[0m\u001b[0;34m,\u001b[0m\u001b[0;34m\u001b[0m\u001b[0;34m\u001b[0m\u001b[0m\n\u001b[0;32m--> 229\u001b[0;31m             \u001b[0merrors\u001b[0m\u001b[0;34m=\u001b[0m\u001b[0mkwds\u001b[0m\u001b[0;34m.\u001b[0m\u001b[0mget\u001b[0m\u001b[0;34m(\u001b[0m\u001b[0;34m\"encoding_errors\"\u001b[0m\u001b[0;34m,\u001b[0m \u001b[0;34m\"strict\"\u001b[0m\u001b[0;34m)\u001b[0m\u001b[0;34m,\u001b[0m\u001b[0;34m\u001b[0m\u001b[0;34m\u001b[0m\u001b[0m\n\u001b[0m\u001b[1;32m    230\u001b[0m         )\n\u001b[1;32m    231\u001b[0m \u001b[0;34m\u001b[0m\u001b[0m\n",
            "\u001b[0;32m/usr/local/lib/python3.7/dist-packages/pandas/io/common.py\u001b[0m in \u001b[0;36mget_handle\u001b[0;34m(path_or_buf, mode, encoding, compression, memory_map, is_text, errors, storage_options)\u001b[0m\n\u001b[1;32m    705\u001b[0m                 \u001b[0mencoding\u001b[0m\u001b[0;34m=\u001b[0m\u001b[0mioargs\u001b[0m\u001b[0;34m.\u001b[0m\u001b[0mencoding\u001b[0m\u001b[0;34m,\u001b[0m\u001b[0;34m\u001b[0m\u001b[0;34m\u001b[0m\u001b[0m\n\u001b[1;32m    706\u001b[0m                 \u001b[0merrors\u001b[0m\u001b[0;34m=\u001b[0m\u001b[0merrors\u001b[0m\u001b[0;34m,\u001b[0m\u001b[0;34m\u001b[0m\u001b[0;34m\u001b[0m\u001b[0m\n\u001b[0;32m--> 707\u001b[0;31m                 \u001b[0mnewline\u001b[0m\u001b[0;34m=\u001b[0m\u001b[0;34m\"\"\u001b[0m\u001b[0;34m,\u001b[0m\u001b[0;34m\u001b[0m\u001b[0;34m\u001b[0m\u001b[0m\n\u001b[0m\u001b[1;32m    708\u001b[0m             )\n\u001b[1;32m    709\u001b[0m         \u001b[0;32melse\u001b[0m\u001b[0;34m:\u001b[0m\u001b[0;34m\u001b[0m\u001b[0;34m\u001b[0m\u001b[0m\n",
            "\u001b[0;31mFileNotFoundError\u001b[0m: [Errno 2] No such file or directory: '/content/train.csv'"
          ]
        }
      ]
    },
    {
      "cell_type": "code",
      "source": [
        "data1 = pd.read_csv('/content/train.csv')\n",
        "data1"
      ],
      "metadata": {
        "id": "1y_pu3GsroyW"
      },
      "execution_count": null,
      "outputs": []
    },
    {
      "cell_type": "code",
      "source": [
        "#Data Enginnering \n",
        "\n",
        "data.isna().sum()"
      ],
      "metadata": {
        "id": "Y1dtbKQZ3Tx-"
      },
      "execution_count": null,
      "outputs": []
    },
    {
      "cell_type": "code",
      "source": [
        "data.no_of_children.hist()\n",
        "data.no_of_children.fillna(np.median(data.no_of_children.dropna()),inplace= True)"
      ],
      "metadata": {
        "id": "lOfCroy9CDPp"
      },
      "execution_count": null,
      "outputs": []
    },
    {
      "cell_type": "code",
      "source": [
        "data.no_of_days_employed.hist()\n",
        "\n",
        "data.no_of_days_employed.fillna(np.median(data.no_of_days_employed.dropna()), inplace=True)"
      ],
      "metadata": {
        "id": "fTYy56TeC0Ao"
      },
      "execution_count": null,
      "outputs": []
    },
    {
      "cell_type": "code",
      "source": [
        "data.total_family_members.hist()\n",
        "data.total_family_members.fillna(np.median(data.total_family_members.dropna()), inplace=True)"
      ],
      "metadata": {
        "id": "iQ-ApM6SDXLK"
      },
      "execution_count": null,
      "outputs": []
    },
    {
      "cell_type": "code",
      "source": [
        "data.yearly_debt_payments.hist()\n",
        "data.yearly_debt_payments.fillna(np.median(data.yearly_debt_payments.dropna()), inplace=True)"
      ],
      "metadata": {
        "id": "KczyjX6BDgeF"
      },
      "execution_count": null,
      "outputs": []
    },
    {
      "cell_type": "code",
      "source": [
        "data.credit_score.hist()\n",
        "data.credit_score.fillna(np.median(data.credit_score.dropna()), inplace=True)"
      ],
      "metadata": {
        "id": "7ik8ZdCHDxhv"
      },
      "execution_count": null,
      "outputs": []
    },
    {
      "cell_type": "code",
      "source": [
        "data.isna().sum()  "
      ],
      "metadata": {
        "id": "vLut1u2DD5m7"
      },
      "execution_count": null,
      "outputs": []
    },
    {
      "cell_type": "code",
      "source": [
        "data.owns_car.fillna(data.owns_car.mode().values[0],inplace=True)\n",
        "data.migrant_worker.fillna(data.migrant_worker.mode().values[0],inplace=True)"
      ],
      "metadata": {
        "id": "1jjUKZcjEMNJ"
      },
      "execution_count": null,
      "outputs": []
    },
    {
      "cell_type": "code",
      "source": [
        "data"
      ],
      "metadata": {
        "id": "owCdvjwW4yU3"
      },
      "execution_count": null,
      "outputs": []
    },
    {
      "cell_type": "code",
      "source": [
        "#Synthetic Feartures: Generating meaningful synthetic features from the data\n",
        "\n",
        "def get_profit_category(value):\n",
        "    if value < 0 :\n",
        "        return \"Loss\"\n",
        "    elif value == 0 : \n",
        "        return \"Zero\"\n",
        "    else:\n",
        "        return \"Profit\"\n",
        "\n",
        "data[\"in_hand_balance\"] = (data.net_yearly_income - data.yearly_debt_payments)\n",
        "data[\"in_profit\"] = [get_profit_category(i) for i in data[\"in_hand_balance\"].values]\n",
        "data[\"total_income_received\"] = data.net_yearly_income * data.no_of_days_employed\n",
        "data[\"employment_years\"] = (data.no_of_days_employed / 365.0)"
      ],
      "metadata": {
        "id": "eW6CYQhHFeCK"
      },
      "execution_count": null,
      "outputs": []
    },
    {
      "cell_type": "code",
      "source": [
        "data.employment_years.clip(upper = np.median(data.employment_years), inplace=True)\n",
        "# numpy.clip() function is used to Clip (limit) the values in an array."
      ],
      "metadata": {
        "id": "TKSo39GXMNKl"
      },
      "execution_count": null,
      "outputs": []
    },
    {
      "cell_type": "code",
      "source": [
        "#Exploratory Data Analysis\n",
        "\n",
        "cnames = {\n",
        "'antiquewhite':         '#FAEBD7',\n",
        "'aqua':                 '#00FFFF',\n",
        "'aquamarine':           '#7FFFD4',\n",
        "'beige':                '#F5F5DC',\n",
        "'bisque':               '#FFE4C4',\n",
        "'black':                '#000000',\n",
        "'blanchedalmond':       '#FFEBCD',\n",
        "'blue':                 '#0000FF',\n",
        "'blueviolet':           '#8A2BE2',\n",
        "'brown':                '#A52A2A',\n",
        "'burlywood':            '#DEB887',\n",
        "'cadetblue':            '#5F9EA0',\n",
        "'chartreuse':           '#7FFF00',\n",
        "'chocolate':            '#D2691E',\n",
        "'coral':                '#FF7F50',\n",
        "'cornflowerblue':       '#6495ED',\n",
        "'crimson':              '#DC143C',\n",
        "'cyan':                 '#00FFFF',\n",
        "'darkblue':             '#00008B',\n",
        "'darkcyan':             '#008B8B',\n",
        "'darkgoldenrod':        '#B8860B',\n",
        "'darkgray':             '#A9A9A9',\n",
        "'darkgreen':            '#006400',\n",
        "'darkkhaki':            '#BDB76B',\n",
        "'darkmagenta':          '#8B008B',\n",
        "'darkolivegreen':       '#556B2F',\n",
        "'darkorange':           '#FF8C00',\n",
        "'darkorchid':           '#9932CC',\n",
        "'darkred':              '#8B0000',\n",
        "'darksalmon':           '#E9967A',\n",
        "'darkseagreen':         '#8FBC8F',\n",
        "'darkslateblue':        '#483D8B',\n",
        "'darkslategray':        '#2F4F4F',\n",
        "'darkturquoise':        '#00CED1',\n",
        "'darkviolet':           '#9400D3',\n",
        "'deeppink':             '#FF1493',\n",
        "'deepskyblue':          '#00BFFF',\n",
        "'dimgray':              '#696969',\n",
        "'dodgerblue':           '#1E90FF',\n",
        "'firebrick':            '#B22222',\n",
        "'forestgreen':          '#228B22',\n",
        "'fuchsia':              '#FF00FF',\n",
        "'gainsboro':            '#DCDCDC',\n",
        "'gold':                 '#FFD700',\n",
        "'goldenrod':            '#DAA520',\n",
        "'gray':                 '#808080',\n",
        "'green':                '#008000',\n",
        "'greenyellow':          '#ADFF2F',\n",
        "'honeydew':             '#F0FFF0',\n",
        "'hotpink':              '#FF69B4',\n",
        "'indianred':            '#CD5C5C',\n",
        "'indigo':               '#4B0082',\n",
        "'ivory':                '#FFFFF0',\n",
        "'khaki':                '#F0E68C',\n",
        "'lavender':             '#E6E6FA',\n",
        "'lawngreen':            '#7CFC00',\n",
        "'lemonchiffon':         '#FFFACD',\n",
        "'lightblue':            '#ADD8E6',\n",
        "'lightcoral':           '#F08080',\n",
        "'lightcyan':            '#E0FFFF',\n",
        "'lightgoldenrodyellow': '#FAFAD2',\n",
        "'lightgreen':           '#90EE90',\n",
        "'lightgray':            '#D3D3D3',\n",
        "'lightpink':            '#FFB6C1',\n",
        "'lightsalmon':          '#FFA07A',\n",
        "'lightseagreen':        '#20B2AA',\n",
        "'lightskyblue':         '#87CEFA',\n",
        "'lightslategray':       '#778899',\n",
        "'lightsteelblue':       '#B0C4DE',\n",
        "'lime':                 '#00FF00',\n",
        "'limegreen':            '#32CD32',\n",
        "'magenta':              '#FF00FF',\n",
        "'maroon':               '#800000',\n",
        "'mediumaquamarine':     '#66CDAA',\n",
        "'mediumblue':           '#0000CD',\n",
        "'mediumorchid':         '#BA55D3',\n",
        "'mediumpurple':         '#9370DB',\n",
        "'mediumseagreen':       '#3CB371',\n",
        "'mediumslateblue':      '#7B68EE',\n",
        "'mediumspringgreen':    '#00FA9A',\n",
        "'mediumturquoise':      '#48D1CC',\n",
        "'mediumvioletred':      '#C71585',\n",
        "'midnightblue':         '#191970',\n",
        "'mintcream':            '#F5FFFA',\n",
        "'moccasin':             '#FFE4B5',\n",
        "'navajowhite':          '#FFDEAD',\n",
        "'navy':                 '#000080',\n",
        "'olive':                '#808000',\n",
        "'olivedrab':            '#6B8E23',\n",
        "'orange':               '#FFA500',\n",
        "'orangered':            '#FF4500',\n",
        "'orchid':               '#DA70D6',\n",
        "'palegoldenrod':        '#EEE8AA',\n",
        "'palegreen':            '#98FB98',\n",
        "'paleturquoise':        '#AFEEEE',\n",
        "'palevioletred':        '#DB7093',\n",
        "'papayawhip':           '#FFEFD5',\n",
        "'peachpuff':            '#FFDAB9',\n",
        "'peru':                 '#CD853F',\n",
        "'pink':                 '#FFC0CB',\n",
        "'plum':                 '#DDA0DD',\n",
        "'powderblue':           '#B0E0E6',\n",
        "'purple':               '#800080',\n",
        "'red':                  '#FF0000',\n",
        "'rosybrown':            '#BC8F8F',\n",
        "'royalblue':            '#4169E1',\n",
        "'saddlebrown':          '#8B4513',\n",
        "'salmon':               '#FA8072',\n",
        "'sandybrown':           '#FAA460',\n",
        "'seagreen':             '#2E8B57',\n",
        "'sienna':               '#A0522D',\n",
        "'silver':               '#C0C0C0',\n",
        "'skyblue':              '#87CEEB',\n",
        "'slateblue':            '#6A5ACD',\n",
        "'slategray':            '#708090',\n",
        "'springgreen':          '#00FF7F',\n",
        "'steelblue':            '#4682B4',\n",
        "'tan':                  '#D2B48C',\n",
        "'teal':                 '#008080',\n",
        "'thistle':              '#D8BFD8',\n",
        "'tomato':               '#FF6347',\n",
        "'turquoise':            '#40E0D0',\n",
        "'violet':               '#EE82EE',\n",
        "'wheat':                '#F5DEB3',\n",
        "'white':                '#FFFFFF',\n",
        "'yellow':               '#FFFF00',\n",
        "'yellowgreen':          '#9ACD32'}\n",
        "\n",
        "colors = list(cnames.keys())"
      ],
      "metadata": {
        "id": "V1beR8O3N6WR"
      },
      "execution_count": null,
      "outputs": []
    },
    {
      "cell_type": "code",
      "source": [
        "data.columns"
      ],
      "metadata": {
        "id": "UcA-FWjuOJwo"
      },
      "execution_count": null,
      "outputs": []
    },
    {
      "cell_type": "code",
      "source": [
        "plt.figure(figsize=(10,8))\n",
        "shuffle(colors)\n",
        "plt.subplot(2,2,1)\n",
        "plt.hist(data.age,color=colors[0])\n",
        "plt.xlabel(\"Age group\")\n",
        "plt.ylabel(\"Count\")\n",
        "plt.title(\"Which age group is dominant?\")\n",
        "\n",
        "shuffle(colors)\n",
        "plt.subplot(2,2,2)\n",
        "plt.hist(data[data.credit_card_default == 0 ].age,color=colors[0])\n",
        "plt.xlabel(\"Age group\")\n",
        "plt.ylabel(\"Count\")\n",
        "plt.title(\"Which age group is dominant among the non-defaulters?\")\n",
        "\n",
        "shuffle(colors)\n",
        "plt.subplot(2,2,3)\n",
        "plt.hist(data[data.credit_card_default == 1].age,color=colors[0])\n",
        "plt.xlabel(\"Age group\")\n",
        "plt.ylabel(\"Count\")\n",
        "plt.title(\"Which age group is dominant among the defaulters?\")\n",
        "plt.tight_layout()\n"
      ],
      "metadata": {
        "id": "_SGy2nvsUMR1"
      },
      "execution_count": null,
      "outputs": []
    },
    {
      "cell_type": "markdown",
      "source": [
        "**Among** the above case the 25,40,55 is Dominant ages\n",
        "\n",
        "---\n",
        "\n",
        "Which Gender is Dominant ?\n",
        "\n"
      ],
      "metadata": {
        "id": "-H175_UvXBc2"
      }
    },
    {
      "cell_type": "code",
      "source": [
        "plt.figure(figsize= (10,9)) \n",
        "plt.subplot(2,2,1)\n",
        "shuffle(colors)\n",
        "un , count = np.unique(data.gender , return_counts = True)\n",
        "plt.bar(un, count, color=colors)\n",
        "plt.xlabel(\"Gender\")\n",
        "plt.ylabel(\"count\")\n",
        "plt.title(\"which gender group is Dominant ?\")\n",
        "\n",
        "plt.subplot(2,2,2)\n",
        "shuffle(colors)\n",
        "un , count = np.unique(data[data.credit_card_default == 1].gender, return_counts = True)\n",
        "plt.bar(un, count,color = colors)\n",
        "plt.xlabel(\"Gender\")\n",
        "plt.ylabel(\"count\")\n",
        "plt.title(\"which gender group is Dominant among defaulters ?\")\n",
        "\n",
        "plt.subplot(2,2,3)\n",
        "shuffle(colors)\n",
        "un, count = np.unique(data[data.credit_card_default == 0].gender, return_counts=True)\n",
        "plt.bar(un, count, color=colors)\n",
        "plt.xlabel(\"Gender\")\n",
        "plt.ylabel(\"Count\")\n",
        "plt.title(\"Which gender group is dominant among the non-defaulters?\")\n",
        "\n",
        "plt.tight_layout()\n",
        "\n",
        "\n",
        "\n",
        "\n"
      ],
      "metadata": {
        "id": "eeL2IDpaW98M"
      },
      "execution_count": null,
      "outputs": []
    },
    {
      "cell_type": "markdown",
      "source": [
        " Females tend to be more Non-defaulters while Males tend to be more in number in Defaulters.\n",
        "\n",
        "\n",
        "---\n",
        "\n",
        "How many owns a vehicle?"
      ],
      "metadata": {
        "id": "V97fEH_pydmJ"
      }
    },
    {
      "cell_type": "code",
      "source": [
        "plt.figure(figsize=(10,9))\n",
        "plt.subplot(2,2,1)\n",
        "shuffle(colors)\n",
        "un , count = np.unique(data.owns_car.dropna(),return_counts=True)\n",
        "un = [\"Yes\" if i.lower() == 'y' else \"no\" for i in un]\n",
        "plt.bar(un,count,color = colors)\n",
        "plt.xlabel(\"Vehicle Ownership\")\n",
        "plt.ylabel(\"count\")\n",
        "plt.title(\"how own a cars\")\n",
        "\n",
        "plt.subplot(2,2,2)\n",
        "shuffle(colors)\n",
        "un, count = np.unique(data[data.credit_card_default == 1].owns_car.dropna(), return_counts=True)\n",
        "un = [\"Yes\" if i.lower() == \"y\" else \"No\" for i in un]\n",
        "plt.bar(un, count, color=colors)\n",
        "plt.xlabel(\"Vehicle Ownership\")\n",
        "plt.ylabel(\"Count\")\n",
        "plt.title(\"How many own a car among the defaulters?\")\n",
        "\n",
        "plt.subplot(2,2,3)\n",
        "shuffle(colors)\n",
        "un, count = np.unique(data[data.credit_card_default == 0].owns_car.dropna(), return_counts=True)\n",
        "un = [\"Yes\" if i.lower() == \"y\" else \"No\" for i in un]\n",
        "plt.bar(un, count, color=colors)\n",
        "plt.xlabel(\"Vehicle Ownership\")\n",
        "plt.ylabel(\"Count\")\n",
        "plt.title(\"How many own a car among the non-defaulters?\")\n",
        "plt.tight_layout()\n"
      ],
      "metadata": {
        "id": "xtBukGPoypXX"
      },
      "execution_count": null,
      "outputs": []
    },
    {
      "cell_type": "markdown",
      "source": [
        "Among both classes, majority do not own a car.\n",
        "\n",
        "\n",
        "---\n",
        "How many have a residence ownership?\n"
      ],
      "metadata": {
        "id": "nQqi4o0M2ObH"
      }
    },
    {
      "cell_type": "code",
      "source": [
        "plt.figure(figsize=(10,9))\n",
        "plt.subplot(2,2,1)\n",
        "shuffle(colors)\n",
        "un, count = np.unique(data.owns_house.dropna(), return_counts=True)\n",
        "un = [\"Yes\" if i.lower() == \"y\" else \"No\" for i in un]\n",
        "plt.bar(un, count, color=colors)\n",
        "plt.xlabel(\"House Ownership\")\n",
        "plt.ylabel(\"Count\")\n",
        "plt.title(\"How many owns a residence?\")\n",
        "\n",
        "plt.subplot(2,2,2)\n",
        "shuffle(colors)\n",
        "un, count = np.unique(data[data.credit_card_default == 1].owns_house.dropna(), return_counts=True)\n",
        "un = [\"Yes\" if i.lower() == \"y\" else \"No\" for i in un]\n",
        "plt.bar(un, count, color=colors)\n",
        "plt.xlabel(\"House Ownership\")\n",
        "plt.ylabel(\"Count\")\n",
        "plt.title(\"How many owns a residence among the defaulters?\")\n",
        "\n",
        "plt.subplot(2,2,3)\n",
        "shuffle(colors)\n",
        "un, count = np.unique(data[data.credit_card_default == 0].owns_house.dropna(), return_counts=True)\n",
        "un = [\"Yes\" if i.lower() == \"y\" else \"No\" for i in un]\n",
        "plt.bar(un, count, color=colors)\n",
        "plt.xlabel(\"House Ownership\")\n",
        "plt.ylabel(\"Count\")\n",
        "plt.title(\"How many owns a residence among the non-defaulters?\")\n",
        "plt.tight_layout()"
      ],
      "metadata": {
        "id": "EuJu7-kl1xEm"
      },
      "execution_count": null,
      "outputs": []
    },
    {
      "cell_type": "markdown",
      "source": [
        "Majority Own a residence among the defaulters while the opposite happens in the case of Non-defaulters\n",
        "\n",
        "\n",
        "---\n",
        "How many children do they have?\n"
      ],
      "metadata": {
        "id": "lq8jq5u93Bro"
      }
    },
    {
      "cell_type": "code",
      "source": [
        "plt.figure(figsize=(10,9))\n",
        "plt.subplot(2,2,1)\n",
        "plt.hist(data.no_of_children,color='brown')\n",
        "plt.xlabel(\"No of Children\")\n",
        "plt.ylabel(\"Count\")\n",
        "plt.title(\"How many children do they have?\")\n",
        "plt.subplot(2,2,2)\n",
        "plt.hist(data[data.credit_card_default == 1].no_of_children,color='brown')\n",
        "plt.xlabel(\"No of Children\")\n",
        "plt.ylabel(\"Count\")\n",
        "plt.title(\"How many children do defaulters have?\")\n",
        "plt.subplot(2,2,3)\n",
        "plt.hist(data[data.credit_card_default == 0].no_of_children,color='brown')\n",
        "plt.xlabel(\"No of Children\")\n",
        "plt.ylabel(\"Count\")\n",
        "plt.title(\"How many children do defaulters have?\")\n",
        "plt.tight_layout()"
      ],
      "metadata": {
        "id": "r0ife7m61off"
      },
      "execution_count": null,
      "outputs": []
    },
    {
      "cell_type": "markdown",
      "source": [
        "The distribution stays the same among both classes with negligible variations.\n",
        "\n",
        "---\n",
        "\n",
        "How much do they earn?"
      ],
      "metadata": {
        "id": "C7BluoD_3Vij"
      }
    },
    {
      "cell_type": "code",
      "source": [
        "plt.figure(figsize=(10,9))\n",
        "plt.subplot(2,2,1)\n",
        "plt.hist(data.net_yearly_income,color='aqua')\n",
        "plt.xlabel(\"Income group\")\n",
        "plt.ylabel(\"Count\")\n",
        "plt.title(\"How much do they earn?\")\n",
        "plt.subplot(2,2,2)\n",
        "plt.hist(data[data.credit_card_default == 1].net_yearly_income,color='aqua')\n",
        "plt.xlabel(\"Income group\")\n",
        "plt.ylabel(\"Count\")\n",
        "plt.title(\"How much do defaulters earn?\")\n",
        "plt.subplot(2,2,3)\n",
        "plt.hist(data[data.credit_card_default == 0].net_yearly_income,color='aqua')\n",
        "plt.xlabel(\"Income group\")\n",
        "plt.ylabel(\"Count\")\n",
        "plt.title(\"How much do non-defaulters earn?\")\n",
        "plt.tight_layout()"
      ],
      "metadata": {
        "id": "BqYvr3_f3iBz"
      },
      "execution_count": null,
      "outputs": []
    },
    {
      "cell_type": "markdown",
      "source": [
        "Counter Intuitively, Defaulters earn in higher amount in comparison with Non-defaulters\n",
        "\n",
        "---\n",
        "\n",
        "How long is their work experience?"
      ],
      "metadata": {
        "id": "VN0z5pNy3-lF"
      }
    },
    {
      "cell_type": "code",
      "source": [
        "plt.figure(figsize=(10,9))\n",
        "plt.subplot(2,2,1)\n",
        "plt.hist(data.employment_years,color='blue')\n",
        "plt.xlabel(\"Time Span\")\n",
        "plt.ylabel(\"Count\")\n",
        "plt.title(\"How long have they been working?\")\n",
        "plt.subplot(2,2,2)\n",
        "plt.hist(data[data1.credit_card_default == 1].employment_years,color='blue')\n",
        "plt.xlabel(\"Time Span\")\n",
        "plt.ylabel(\"Count\")\n",
        "plt.title(\"How long have the defaulters been working?\")\n",
        "plt.subplot(2,2,3)\n",
        "plt.hist(data[data1.credit_card_default == 0].employment_years,color='blue')\n",
        "plt.xlabel(\"Time Span\")\n",
        "plt.ylabel(\"Count\")\n",
        "plt.title(\"How long have the non-defaulters been working?\")\n",
        "plt.tight_layout()"
      ],
      "metadata": {
        "id": "VWK1NfZj4Dvb"
      },
      "execution_count": null,
      "outputs": []
    },
    {
      "cell_type": "markdown",
      "source": [
        "Somewhat similar distribution with Moderate Work Experience higher among defaulters.\n",
        "\n",
        "---\n",
        "\n",
        "What is their work?"
      ],
      "metadata": {
        "id": "ZskjfE9W4P-T"
      }
    },
    {
      "cell_type": "code",
      "source": [
        "shuffle(colors)\n",
        "plt.figure(figsize=(15,12))\n",
        "plt.subplot(2,2,1)\n",
        "un, count = np.unique(data.occupation_type.dropna(), return_counts=True)\n",
        "plt.barh(un, count, color=colors)\n",
        "plt.xlabel(\"Occupation Type\")\n",
        "plt.ylabel(\"Count\")\n",
        "plt.title(\"What profession do they do?\")\n",
        "\n",
        "plt.subplot(2,2,2)\n",
        "un, count = np.unique(data[data.credit_card_default == 1].occupation_type.dropna(), return_counts=True)\n",
        "plt.barh(un, count, color=colors)\n",
        "plt.xlabel(\"Occupation Type\")\n",
        "plt.ylabel(\"Count\")\n",
        "plt.title(\"What profession do defaulters do?\")\n",
        "\n",
        "plt.subplot(2,2,3)\n",
        "un, count = np.unique(data[data.credit_card_default == 0].occupation_type.dropna(), return_counts=True)\n",
        "plt.barh(un, count, color=colors)\n",
        "plt.xlabel(\"Occupation Type\")\n",
        "plt.ylabel(\"Count\")\n",
        "plt.title(\"What profession do non-defaulters do?\")\n",
        "plt.tight_layout()"
      ],
      "metadata": {
        "id": "6HwWW5q34TLF"
      },
      "execution_count": null,
      "outputs": []
    },
    {
      "cell_type": "markdown",
      "source": [
        "Comparatively, Defaulters have Low-income jobs compared to Non-Defaulters\n",
        "\n",
        "---\n",
        "\n",
        "How big is their family"
      ],
      "metadata": {
        "id": "SZzyXwtP4mvF"
      }
    },
    {
      "cell_type": "code",
      "source": [
        "plt.figure(figsize=(10,9))\n",
        "plt.subplot(2,2,1)\n",
        "plt.hist(data.total_family_members,color='seagreen')\n",
        "plt.xlabel(\"Family Member Count\")\n",
        "plt.ylabel(\"Count\")\n",
        "plt.title(\"How big family do they have?\")\n",
        "plt.subplot(2,2,2)\n",
        "plt.hist(data[data.credit_card_default == 1].total_family_members,color='seagreen')\n",
        "plt.xlabel(\"Family Member Count\")\n",
        "plt.ylabel(\"Count\")\n",
        "plt.title(\"How big family do defaulters have?\")\n",
        "plt.subplot(2,2,3)\n",
        "plt.hist(data[data.credit_card_default == 0].total_family_members,color='seagreen')\n",
        "plt.xlabel(\"Family Member Count\")\n",
        "plt.ylabel(\"Count\")\n",
        "plt.title(\"How big family do non-defaulters have?\")\n",
        "plt.tight_layout()"
      ],
      "metadata": {
        "id": "rQYroY7b4qFe"
      },
      "execution_count": null,
      "outputs": []
    },
    {
      "cell_type": "markdown",
      "source": [
        "Similar distributions with neglible variations.\n",
        "\n",
        "---\n",
        "\n",
        "Are they a migrant?"
      ],
      "metadata": {
        "id": "MA6Epiw543_r"
      }
    },
    {
      "cell_type": "code",
      "source": [
        "shuffle(colors)\n",
        "plt.figure(figsize=(10,9))\n",
        "plt.subplot(2,2,1)\n",
        "un, count = np.unique(data.migrant_worker.dropna(), return_counts=True)\n",
        "un = [str(int(i)) for i in un]\n",
        "plt.bar(un, count, color = colors)\n",
        "plt.xlabel(\"Migration Status\")\n",
        "plt.ylabel(\"Count\")\n",
        "plt.title(\"Are they an outsider?\")\n",
        "plt.subplot(2,2,2)\n",
        "un, count = np.unique(data[data.credit_card_default == 0].migrant_worker.dropna(), return_counts=True)\n",
        "un = [str(int(i)) for i in un]\n",
        "plt.bar(un, count, color = colors)\n",
        "plt.xlabel(\"Migration Status\")\n",
        "plt.ylabel(\"Count\")\n",
        "plt.title(\"Are they non-defaulters an outsider?\")\n",
        "plt.subplot(2,2,3)\n",
        "un, count = np.unique(data[data.credit_card_default == 1].migrant_worker.dropna(), return_counts=True)\n",
        "un = [str(int(i)) for i in un]\n",
        "plt.bar(un, count, color = colors)\n",
        "plt.xlabel(\"Migration Status\")\n",
        "plt.ylabel(\"Count\")\n",
        "plt.title(\"Are they defaulters an outsider?\")\n",
        "plt.tight_layout()"
      ],
      "metadata": {
        "id": "DuJTLfNa49rc"
      },
      "execution_count": null,
      "outputs": []
    },
    {
      "cell_type": "markdown",
      "source": [
        "There is a small variation in the migration status for Defaulters, where there are comparatively more Outsiders.\n",
        "\n",
        "---\n",
        "\n",
        "How much is their debt?"
      ],
      "metadata": {
        "id": "j90KtVeU5gSR"
      }
    },
    {
      "cell_type": "code",
      "source": [
        "plt.figure(figsize=(15,9))\n",
        "plt.subplot(2,2,1)\n",
        "plt.hist(data.yearly_debt_payments, color=\"lightblue\")\n",
        "plt.xlabel(\"Debt Amount Range\")\n",
        "plt.ylabel(\"Count\")\n",
        "plt.title(\"How much debt do they have?\")\n",
        "plt.subplot(2,2,2)\n",
        "plt.hist(data[data.credit_card_default == 1].yearly_debt_payments, color=\"lightblue\")\n",
        "plt.xlabel(\"Debt Amount Range\")\n",
        "plt.ylabel(\"Count\")\n",
        "plt.title(\"How much debt do defaulters have?\")\n",
        "plt.subplot(2,2,3)\n",
        "plt.hist(data[data.credit_card_default == 0].yearly_debt_payments, color=\"lightblue\")\n",
        "plt.xlabel(\"Debt Amount Range\")\n",
        "plt.ylabel(\"Count\")\n",
        "plt.title(\"How much debt do non-defaulters have?\")\n",
        "plt.tight_layout()"
      ],
      "metadata": {
        "id": "dxCN5azx5kRx"
      },
      "execution_count": null,
      "outputs": []
    },
    {
      "cell_type": "markdown",
      "source": [
        "The debt status of both classes are similar with negligible variation\n",
        "\n",
        "---\n",
        "\n",
        "What is their credit limit?"
      ],
      "metadata": {
        "id": "kjIrUnWo5uTV"
      }
    },
    {
      "cell_type": "code",
      "source": [
        "plt.figure(figsize=(10,9))\n",
        "plt.subplot(2,2,1)\n",
        "plt.ticklabel_format(useOffset=False)\n",
        "plt.hist(data.credit_limit, color=\"skyblue\")\n",
        "plt.xlabel(\"Available Credit Limit Range\")\n",
        "plt.ylabel(\"Count\")\n",
        "plt.title(\"How much credit limit do they have?\")\n",
        "\n",
        "plt.subplot(2,2,2)\n",
        "plt.ticklabel_format(useOffset=False)\n",
        "plt.hist(data[data.credit_card_default == 1].credit_limit, color=\"skyblue\")\n",
        "plt.xlabel(\"Available Credit Limit Range\")\n",
        "plt.ylabel(\"Count\")\n",
        "plt.title(\"How much credit limit do defaulters have?\")\n",
        "\n",
        "plt.subplot(2,2,3)\n",
        "plt.ticklabel_format(useOffset=False)\n",
        "plt.hist(data[data.credit_card_default == 0].credit_limit, color=\"skyblue\")\n",
        "plt.xlabel(\"Available Credit Limit Range\")\n",
        "plt.ylabel(\"Count\")\n",
        "plt.title(\"How much credit limit do non-defaulters have?\")\n",
        "plt.tight_layout()"
      ],
      "metadata": {
        "id": "zw-aQzs75ylW"
      },
      "execution_count": null,
      "outputs": []
    },
    {
      "cell_type": "markdown",
      "source": [
        "How much credit limit they used?"
      ],
      "metadata": {
        "id": "i_C0eqtbIFd2"
      }
    },
    {
      "cell_type": "code",
      "source": [
        "plt.figure(figsize=(10,9))\n",
        "plt.subplot(2,2,1)\n",
        "plt.hist(data['credit_limit_used(%)'], color=\"darkgreen\")\n",
        "plt.xlabel(\"Used Credit Limit Range\")\n",
        "plt.ylabel(\"Count\")\n",
        "plt.title(\"How much credit limit have they used?\")\n",
        "plt.subplot(2,2,2)\n",
        "plt.hist(data[data.credit_card_default == 1]['credit_limit_used(%)'], color=\"darkgreen\")\n",
        "plt.xlabel(\"Used Credit Limit Range\")\n",
        "plt.ylabel(\"Count\")\n",
        "plt.title(\"How much credit limit have defaulters used?\")\n",
        "plt.subplot(2,2,3)\n",
        "plt.hist(data[data.credit_card_default == 0]['credit_limit_used(%)'], color=\"darkgreen\")\n",
        "plt.xlabel(\"Used Credit Limit Range\")\n",
        "plt.ylabel(\"Count\")\n",
        "plt.title(\"How much credit limit have non-defaulters used?\")\n",
        "plt.tight_layout()"
      ],
      "metadata": {
        "id": "XV6s02NAJXfd"
      },
      "execution_count": null,
      "outputs": []
    },
    {
      "cell_type": "markdown",
      "source": [
        "What is their credit score?"
      ],
      "metadata": {
        "id": "NSDu5AlFJZ8f"
      }
    },
    {
      "cell_type": "code",
      "source": [
        "shuffle(colors)\n",
        "plt.figure(figsize=(10,9))\n",
        "plt.subplot(2,2,1)\n",
        "plt.hist(data.credit_score, color=colors[0])\n",
        "plt.xlabel(\"Credit Score Range\")\n",
        "plt.ylabel(\"Count\")\n",
        "plt.title(\"How much credit score do they have?\")\n",
        "plt.subplot(2,2,2)\n",
        "plt.hist(data[data.credit_card_default == 1].credit_score, color=colors[0])\n",
        "plt.xlabel(\"Credit Score Range\")\n",
        "plt.ylabel(\"Count\")\n",
        "plt.title(\"How much credit score do defaulters have?\")\n",
        "plt.subplot(2,2,3)\n",
        "plt.hist(data[data.credit_card_default == 0].credit_score, color=colors[0])\n",
        "plt.xlabel(\"Credit Score Range\")\n",
        "plt.ylabel(\"Count\")\n",
        "plt.title(\"How much credit score do non-defaulters have?\")\n",
        "plt.tight_layout()"
      ],
      "metadata": {
        "id": "Yl7dvz9ZJY7F"
      },
      "execution_count": null,
      "outputs": []
    },
    {
      "cell_type": "markdown",
      "source": [
        "Inference : The credit score of Defaulters range from 500 - 700 while for Non-Defaulters range from 650 - 950.\n",
        "\n",
        "\n",
        "How much time did they default before?\n"
      ],
      "metadata": {
        "id": "8gLrUREIIBCU"
      }
    },
    {
      "cell_type": "code",
      "source": [
        "shuffle(colors)\n",
        "plt.figure(figsize=(10,9))\n",
        "plt.subplot(2,2,1)\n",
        "un, count = np.unique(data.prev_defaults, return_counts=True)\n",
        "un = [str(int(i)) for i in un]\n",
        "plt.bar(un, count, color=colors)\n",
        "plt.xlabel(\"Previous Default Count\")\n",
        "plt.ylabel(\"Count\")\n",
        "plt.title(\"How many times have they defaulted before?\")\n",
        "plt.subplot(2,2,2)\n",
        "un, count = np.unique(data[data.credit_card_default == 1].prev_defaults, return_counts=True)\n",
        "un = [str(int(i)) for i in un]\n",
        "plt.bar(un, count, color=colors)\n",
        "plt.xlabel(\"Previous Default Count\")\n",
        "plt.ylabel(\"Count\")\n",
        "plt.title(\"How many times have the defaulters defaulted before?\")\n",
        "plt.subplot(2,2,3)\n",
        "un, count = np.unique(data[data.credit_card_default == 0].prev_defaults, return_counts=True)\n",
        "un = [str(int(i)) for i in un]\n",
        "plt.bar(un, count, color=colors)\n",
        "plt.xlabel(\"Previous Default Count\")\n",
        "plt.ylabel(\"Count\")\n",
        "plt.title(\"How many times have the non-defaulters defaulted before?\")\n",
        "plt.tight_layout()"
      ],
      "metadata": {
        "id": "Kkz3Ht4sJvJy"
      },
      "execution_count": null,
      "outputs": []
    },
    {
      "cell_type": "markdown",
      "source": [
        "Inference : Majority of the Defaulters have defaulted Atleast previously.\n",
        "\n",
        "\n",
        "Have they defaulted recently?"
      ],
      "metadata": {
        "id": "kLmtghtdJ2rc"
      }
    },
    {
      "cell_type": "code",
      "source": [
        "shuffle(colors)\n",
        "plt.figure(figsize=(10,9))\n",
        "plt.subplot(2,2,1)\n",
        "un, count = np.unique(data.default_in_last_6months, return_counts=True)\n",
        "un = [str(int(i)) for i in un]\n",
        "plt.bar(un, count, color=colors)\n",
        "plt.xlabel(\"Recent Default Count\")\n",
        "plt.ylabel(\"Count\")\n",
        "plt.title(\"Have they defaulted recently?\")\n",
        "plt.subplot(2,2,2)\n",
        "un, count = np.unique(data[data.credit_card_default == 1].default_in_last_6months, return_counts=True)\n",
        "un = [str(int(i)) for i in un]\n",
        "plt.bar(un, count, color=colors)\n",
        "plt.xlabel(\"Recent Default Count\")\n",
        "plt.ylabel(\"Count\")\n",
        "plt.title(\"Have the defaulters defaulted recently?\")\n",
        "plt.subplot(2,2,3)\n",
        "un, count = np.unique(data[data.credit_card_default == 0].default_in_last_6months, return_counts=True)\n",
        "un = [str(int(i)) for i in un]\n",
        "plt.bar(un, count, color=colors)\n",
        "plt.xlabel(\"Recent Default Count\")\n",
        "plt.ylabel(\"Count\")\n",
        "plt.title(\"Have the non-defaulters defaulted recently?\")\n",
        "plt.tight_layout()"
      ],
      "metadata": {
        "id": "ChiqxFJyJ6Su"
      },
      "execution_count": null,
      "outputs": []
    },
    {
      "cell_type": "markdown",
      "source": [
        "Inference : Majority of the defaulters have Defaulted in the last 6 months.\n",
        "\n",
        "How much Profit / Loss occurs to them?"
      ],
      "metadata": {
        "id": "Tx-kB8H5KF7n"
      }
    },
    {
      "cell_type": "code",
      "source": [
        "plt.figure(figsize=(20,9))\n",
        "plt.subplot(2,2,1)\n",
        "shuffle(colors)\n",
        "plt.xlabel(\"In hand profit range\")\n",
        "plt.ylabel(\"Count\")\n",
        "plt.title(\"In what range does loss occur to defaulters?\")\n",
        "plt.ticklabel_format(useOffset=False)\n",
        "plt.hist([i for i in data[data.credit_card_default == 1].in_hand_balance if i < 0], color=colors[0])\n",
        "\n",
        "plt.subplot(2,2,2)\n",
        "plt.xlabel(\"In hand profit range\")\n",
        "plt.ylabel(\"Count\")\n",
        "plt.title(\"In what range does profit occur to defaulters?\")\n",
        "plt.ticklabel_format(useOffset=False)\n",
        "plt.hist([i for i in data[data.credit_card_default == 1].in_hand_balance if i >= 0], color=colors[0])\n",
        "\n",
        "plt.subplot(2,2,3)\n",
        "plt.xlabel(\"In hand profit range\")\n",
        "plt.ylabel(\"Count\")\n",
        "plt.title(\"In what range does loss occur to non-defaulters?\")\n",
        "plt.ticklabel_format(useOffset=False)\n",
        "plt.hist([i for i in data[data.credit_card_default == 0].in_hand_balance if i < 0], color=colors[0])\n",
        "\n",
        "plt.subplot(2,2,4)\n",
        "plt.xlabel(\"In hand profit range\")\n",
        "plt.ylabel(\"Count\")\n",
        "plt.title(\"In what range does profit occur to non-defaulters?\")\n",
        "plt.ticklabel_format(useOffset=False)\n",
        "plt.hist([i for i in data[data.credit_card_default == 0].in_hand_balance if i >= 0], color=colors[0])\n",
        "\n",
        "plt.tight_layout()"
      ],
      "metadata": {
        "id": "I9loemTZKCoc"
      },
      "execution_count": null,
      "outputs": []
    },
    {
      "cell_type": "markdown",
      "source": [
        "Inference : For Defaulters, the loss seems to be a higher number in comparison with Non-Defaulters, but counter intuitively, In hand profit appears Higher for Defaulters.\n",
        "\n",
        "\n",
        "How many are saving?\n"
      ],
      "metadata": {
        "id": "DiI7HWJZKSKF"
      }
    },
    {
      "cell_type": "code",
      "source": [
        "shuffle(colors)\n",
        "plt.figure(figsize=(10,9))\n",
        "plt.subplot(2,2,1)\n",
        "un, count = np.unique(data.in_profit, return_counts=True)\n",
        "plt.bar(un, count, color=colors)\n",
        "plt.title(\"How many are able to save money?\")\n",
        "plt.xlabel(\"Profit status\")\n",
        "plt.ylabel(\"Count\")\n",
        "plt.subplot(2,2,2)\n",
        "un, count = np.unique(data[data.credit_card_default == 1].in_profit, return_counts=True)\n",
        "plt.bar(un, count, color=colors)\n",
        "plt.title(\"How many defaulters are able to save money?\")\n",
        "plt.xlabel(\"Profit status\")\n",
        "plt.ylabel(\"Count\")\n",
        "plt.subplot(2,2,3)\n",
        "un, count = np.unique(data[data.credit_card_default == 0].in_profit, return_counts=True)\n",
        "plt.bar(un, count, color=colors)\n",
        "plt.title(\"How many non-defaulters are able to save money?\")\n",
        "plt.xlabel(\"Profit status\")\n",
        "plt.ylabel(\"Count\")\n",
        "plt.tight_layout()"
      ],
      "metadata": {
        "id": "QqDttm_yKXUw"
      },
      "execution_count": null,
      "outputs": []
    },
    {
      "cell_type": "markdown",
      "source": [
        "Inference : All of them are making a profit, with negligibly less Loss makers.\n",
        "\n",
        "How much do they earn?\n"
      ],
      "metadata": {
        "id": "rFv8G65DKbdR"
      }
    },
    {
      "cell_type": "code",
      "source": [
        "shuffle(colors)\n",
        "plt.figure(figsize=(15,9))\n",
        "plt.subplot(2,2,1)\n",
        "plt.hist(data.total_income_received, color=colors[0])\n",
        "plt.xlabel(\"Income Range\")\n",
        "plt.ylabel(\"Count\")\n",
        "plt.title(\"How much do they earn?\")\n",
        "\n",
        "plt.subplot(2,2,2)\n",
        "plt.hist(data[data.credit_card_default == 1].total_income_received, color=colors[0])\n",
        "plt.xlabel(\"Income Range\")\n",
        "plt.ylabel(\"Count\")\n",
        "plt.title(\"How much do defaulters earn?\")\n",
        "\n",
        "plt.subplot(2,2,3)\n",
        "plt.hist(data[data.credit_card_default == 0].total_income_received, color=colors[0])\n",
        "plt.xlabel(\"Income Range\")\n",
        "plt.ylabel(\"Count\")\n",
        "plt.title(\"How much do non-defaulters earn?\")\n",
        "plt.tight_layout()"
      ],
      "metadata": {
        "id": "vBCKQLVxKmGO"
      },
      "execution_count": null,
      "outputs": []
    },
    {
      "cell_type": "markdown",
      "source": [
        "Inference : Defaulters are having a slightly higher income range in comparison with Non-Defaulters.\n",
        "\n",
        "How many defaulted?"
      ],
      "metadata": {
        "id": "UcK-X6bsKv3i"
      }
    },
    {
      "cell_type": "code",
      "source": [
        "shuffle(colors)\n",
        "un, count = np.unique(data.credit_card_default, return_counts=True)\n",
        "un = [str(int(i)) for i in un]\n",
        "plt.bar(un, count, color = colors)\n",
        "plt.xlabel(\"Default\")\n",
        "plt.ylabel(\"Count\")\n",
        "plt.title(\"How many were defaulters?\")\n",
        "plt.show()"
      ],
      "metadata": {
        "id": "RxcGB38uK2IV"
      },
      "execution_count": null,
      "outputs": []
    },
    {
      "cell_type": "markdown",
      "source": [
        "Modelling:\n",
        "Encoding Categorical Values\n",
        "Oversampling using SMOTE\n",
        "Modelling using Random Forest\n",
        "\n",
        "\n",
        "Drop columns that are not required"
      ],
      "metadata": {
        "id": "IqKDxa8-K6xu"
      }
    },
    {
      "cell_type": "code",
      "source": [
        "data.drop([\"customer_id\",\"name\"],inplace=True,axis=1)"
      ],
      "metadata": {
        "id": "S6KC4eTNLHxh"
      },
      "execution_count": null,
      "outputs": []
    },
    {
      "cell_type": "markdown",
      "source": [
        "Label Encode Categorical Values"
      ],
      "metadata": {
        "id": "nHgkbJcfLLCR"
      }
    },
    {
      "cell_type": "code",
      "source": [
        "enc = LabelEncoder()\n",
        "data.gender = enc.fit_transform(data.gender)\n",
        "data.owns_house = enc.fit_transform(data.owns_house)\n",
        "data.owns_car = enc.fit_transform(data.owns_car)\n",
        "data.occupation_type = enc.fit_transform(data.occupation_type)\n",
        "data.migrant_worker = enc.fit_transform(data.migrant_worker)\n",
        "data.in_profit = enc.fit_transform(data.in_profit)\n",
        "data.credit_card_default = enc.fit_transform(data.credit_card_default)"
      ],
      "metadata": {
        "id": "jAEA2UD_LOPp"
      },
      "execution_count": null,
      "outputs": []
    },
    {
      "cell_type": "markdown",
      "source": [
        "Oversampling using SMOTE"
      ],
      "metadata": {
        "id": "JPzV0A9MLfty"
      }
    },
    {
      "cell_type": "code",
      "source": [
        "features, labels = SMOTE().fit_resample(data.drop([\"credit_card_default\"],axis=1), data.credit_card_default)"
      ],
      "metadata": {
        "id": "RADQiGf2LhCx"
      },
      "execution_count": null,
      "outputs": []
    },
    {
      "cell_type": "markdown",
      "source": [
        "Modelling"
      ],
      "metadata": {
        "id": "CGAp9Sk3LjuW"
      }
    },
    {
      "cell_type": "code",
      "source": [
        "X_train, X_test, Y_train, Y_test = train_test_split(features,\n",
        "                                                    labels,\n",
        "                                                    test_size = 0.2,\n",
        "                                                    shuffle=True)"
      ],
      "metadata": {
        "id": "9L0HaUI9LmHq"
      },
      "execution_count": null,
      "outputs": []
    },
    {
      "cell_type": "code",
      "source": [
        "from sklearn.tree import DecisionTreeClassifier\n",
        "from sklearn.model_selection import cross_val_score\n",
        "rf = RandomForestClassifier(random_state=0,n_estimators=1000)\n",
        "rf.fit(X_train, Y_train)"
      ],
      "metadata": {
        "id": "Zxns1gy_LsD0"
      },
      "execution_count": null,
      "outputs": []
    },
    {
      "cell_type": "markdown",
      "source": [
        "RandomForestClassifier(n_estimators=1000, random_state=0)\n",
        "\n",
        "Metrics"
      ],
      "metadata": {
        "id": "wJnhgm0DLzAX"
      }
    },
    {
      "cell_type": "code",
      "source": [
        "print(\"Train Accuracy  : {:.2f}%\".format(accuracy_score(rf.predict(X_train),Y_train)*100))\n",
        "print(\"Test Accuracy   : {:.2f}%\".format(accuracy_score(rf.predict(X_test),Y_test)*100))\n",
        "print(\"Precision       : {:.2f}%\".format(precision_score(rf.predict(X_test),Y_test)*100))\n",
        "print(\"Recall          : {:.2f}%\".format(recall_score(rf.predict(X_test),Y_test)*100))"
      ],
      "metadata": {
        "id": "YYqYl1PrL48W"
      },
      "execution_count": null,
      "outputs": []
    },
    {
      "cell_type": "markdown",
      "source": [
        "Train Accuracy  : 100.00%\n",
        "Test Accuracy   : 98.74%\n",
        "Precision       : 99.21%\n",
        "Recall          : 98.33%\n",
        "\n",
        "Confusion Matrix"
      ],
      "metadata": {
        "id": "tV_wsx9ZL9T_"
      }
    },
    {
      "cell_type": "code",
      "source": [
        "cm = confusion_matrix(Y_test,rf.predict(X_test))\n",
        "disp = ConfusionMatrixDisplay(cm, display_labels=[\"1\",\"0\"])\n",
        "disp.plot()"
      ],
      "metadata": {
        "id": "MNl-8LaFMH5N"
      },
      "execution_count": null,
      "outputs": []
    },
    {
      "cell_type": "code",
      "source": [],
      "metadata": {
        "colab": {
          "base_uri": "https://localhost:8080/",
          "height": 488
        },
        "id": "O_K_wON9Mdzj",
        "outputId": "86f191ac-b1f5-4924-feb0-101d6fea3776"
      },
      "execution_count": null,
      "outputs": [
        {
          "output_type": "execute_result",
          "data": {
            "text/plain": [
              "            Time        V1        V2        V3        V4        V5        V6  \\\n",
              "0            0.0 -1.359807 -0.072781  2.536347  1.378155 -0.338321  0.462388   \n",
              "1            0.0  1.191857  0.266151  0.166480  0.448154  0.060018 -0.082361   \n",
              "2            1.0 -1.358354 -1.340163  1.773209  0.379780 -0.503198  1.800499   \n",
              "3            1.0 -0.966272 -0.185226  1.792993 -0.863291 -0.010309  1.247203   \n",
              "4            2.0 -1.158233  0.877737  1.548718  0.403034 -0.407193  0.095921   \n",
              "...          ...       ...       ...       ...       ...       ...       ...   \n",
              "182324  125352.0  1.692781 -0.201306 -2.519907  1.461904  0.701510 -1.542165   \n",
              "182325  125352.0 -0.507947 -0.546918  2.291673 -2.112876 -0.845382 -0.425270   \n",
              "182326  125353.0 -1.841495 -1.506387  0.115844  0.057029 -0.202438 -0.100570   \n",
              "182327  125353.0 -2.134618  0.341463  1.033744 -0.368409  0.547263  0.069410   \n",
              "182328  125353.0 -0.499334  0.466251  1.293522 -0.763016  0.900678  1.780179   \n",
              "\n",
              "              V7        V8        V9  ...       V21       V22       V23  \\\n",
              "0       0.239599  0.098698  0.363787  ... -0.018307  0.277838 -0.110474   \n",
              "1      -0.078803  0.085102 -0.255425  ... -0.225775 -0.638672  0.101288   \n",
              "2       0.791461  0.247676 -1.514654  ...  0.247998  0.771679  0.909412   \n",
              "3       0.237609  0.377436 -1.387024  ... -0.108300  0.005274 -0.190321   \n",
              "4       0.592941 -0.270533  0.817739  ... -0.009431  0.798278 -0.137458   \n",
              "...          ...       ...       ...  ...       ...       ...       ...   \n",
              "182324  1.432738 -0.730228 -0.371054  ...  0.433586  0.993490 -0.425314   \n",
              "182325 -0.858402  0.256730 -0.103172  ...  0.512459  1.377962 -0.181414   \n",
              "182326  0.289007  0.592253  0.040401  ...  0.715507  1.007318  0.636655   \n",
              "182327  0.439602 -0.292193  2.044366  ... -0.289225  0.605464 -0.323988   \n",
              "182328  0.134590  0.391000       NaN  ...       NaN       NaN       NaN   \n",
              "\n",
              "             V24       V25       V26       V27       V28  Amount  Class  \n",
              "0       0.066928  0.128539 -0.189115  0.133558 -0.021053  149.62    0.0  \n",
              "1      -0.339846  0.167170  0.125895 -0.008983  0.014724    2.69    0.0  \n",
              "2      -0.689281 -0.327642 -0.139097 -0.055353 -0.059752  378.66    0.0  \n",
              "3      -1.175575  0.647376 -0.221929  0.062723  0.061458  123.50    0.0  \n",
              "4       0.141267 -0.206010  0.502292  0.219422  0.215153   69.99    0.0  \n",
              "...          ...       ...       ...       ...       ...     ...    ...  \n",
              "182324  0.049406  0.824836 -0.217694 -0.091423 -0.041195  216.88    0.0  \n",
              "182325 -0.003468 -0.405188 -0.195736  0.166438  0.161655    0.02    0.0  \n",
              "182326 -0.572371 -0.692105 -0.300111  0.046361 -0.025163  327.28    0.0  \n",
              "182327  0.651900  1.004900  0.786506 -0.757787 -0.813204   12.85    0.0  \n",
              "182328       NaN       NaN       NaN       NaN       NaN     NaN    NaN  \n",
              "\n",
              "[182329 rows x 31 columns]"
            ],
            "text/html": [
              "\n",
              "  <div id=\"df-8f8353e0-a59d-47a5-8062-023a0d1dff8c\">\n",
              "    <div class=\"colab-df-container\">\n",
              "      <div>\n",
              "<style scoped>\n",
              "    .dataframe tbody tr th:only-of-type {\n",
              "        vertical-align: middle;\n",
              "    }\n",
              "\n",
              "    .dataframe tbody tr th {\n",
              "        vertical-align: top;\n",
              "    }\n",
              "\n",
              "    .dataframe thead th {\n",
              "        text-align: right;\n",
              "    }\n",
              "</style>\n",
              "<table border=\"1\" class=\"dataframe\">\n",
              "  <thead>\n",
              "    <tr style=\"text-align: right;\">\n",
              "      <th></th>\n",
              "      <th>Time</th>\n",
              "      <th>V1</th>\n",
              "      <th>V2</th>\n",
              "      <th>V3</th>\n",
              "      <th>V4</th>\n",
              "      <th>V5</th>\n",
              "      <th>V6</th>\n",
              "      <th>V7</th>\n",
              "      <th>V8</th>\n",
              "      <th>V9</th>\n",
              "      <th>...</th>\n",
              "      <th>V21</th>\n",
              "      <th>V22</th>\n",
              "      <th>V23</th>\n",
              "      <th>V24</th>\n",
              "      <th>V25</th>\n",
              "      <th>V26</th>\n",
              "      <th>V27</th>\n",
              "      <th>V28</th>\n",
              "      <th>Amount</th>\n",
              "      <th>Class</th>\n",
              "    </tr>\n",
              "  </thead>\n",
              "  <tbody>\n",
              "    <tr>\n",
              "      <th>0</th>\n",
              "      <td>0.0</td>\n",
              "      <td>-1.359807</td>\n",
              "      <td>-0.072781</td>\n",
              "      <td>2.536347</td>\n",
              "      <td>1.378155</td>\n",
              "      <td>-0.338321</td>\n",
              "      <td>0.462388</td>\n",
              "      <td>0.239599</td>\n",
              "      <td>0.098698</td>\n",
              "      <td>0.363787</td>\n",
              "      <td>...</td>\n",
              "      <td>-0.018307</td>\n",
              "      <td>0.277838</td>\n",
              "      <td>-0.110474</td>\n",
              "      <td>0.066928</td>\n",
              "      <td>0.128539</td>\n",
              "      <td>-0.189115</td>\n",
              "      <td>0.133558</td>\n",
              "      <td>-0.021053</td>\n",
              "      <td>149.62</td>\n",
              "      <td>0.0</td>\n",
              "    </tr>\n",
              "    <tr>\n",
              "      <th>1</th>\n",
              "      <td>0.0</td>\n",
              "      <td>1.191857</td>\n",
              "      <td>0.266151</td>\n",
              "      <td>0.166480</td>\n",
              "      <td>0.448154</td>\n",
              "      <td>0.060018</td>\n",
              "      <td>-0.082361</td>\n",
              "      <td>-0.078803</td>\n",
              "      <td>0.085102</td>\n",
              "      <td>-0.255425</td>\n",
              "      <td>...</td>\n",
              "      <td>-0.225775</td>\n",
              "      <td>-0.638672</td>\n",
              "      <td>0.101288</td>\n",
              "      <td>-0.339846</td>\n",
              "      <td>0.167170</td>\n",
              "      <td>0.125895</td>\n",
              "      <td>-0.008983</td>\n",
              "      <td>0.014724</td>\n",
              "      <td>2.69</td>\n",
              "      <td>0.0</td>\n",
              "    </tr>\n",
              "    <tr>\n",
              "      <th>2</th>\n",
              "      <td>1.0</td>\n",
              "      <td>-1.358354</td>\n",
              "      <td>-1.340163</td>\n",
              "      <td>1.773209</td>\n",
              "      <td>0.379780</td>\n",
              "      <td>-0.503198</td>\n",
              "      <td>1.800499</td>\n",
              "      <td>0.791461</td>\n",
              "      <td>0.247676</td>\n",
              "      <td>-1.514654</td>\n",
              "      <td>...</td>\n",
              "      <td>0.247998</td>\n",
              "      <td>0.771679</td>\n",
              "      <td>0.909412</td>\n",
              "      <td>-0.689281</td>\n",
              "      <td>-0.327642</td>\n",
              "      <td>-0.139097</td>\n",
              "      <td>-0.055353</td>\n",
              "      <td>-0.059752</td>\n",
              "      <td>378.66</td>\n",
              "      <td>0.0</td>\n",
              "    </tr>\n",
              "    <tr>\n",
              "      <th>3</th>\n",
              "      <td>1.0</td>\n",
              "      <td>-0.966272</td>\n",
              "      <td>-0.185226</td>\n",
              "      <td>1.792993</td>\n",
              "      <td>-0.863291</td>\n",
              "      <td>-0.010309</td>\n",
              "      <td>1.247203</td>\n",
              "      <td>0.237609</td>\n",
              "      <td>0.377436</td>\n",
              "      <td>-1.387024</td>\n",
              "      <td>...</td>\n",
              "      <td>-0.108300</td>\n",
              "      <td>0.005274</td>\n",
              "      <td>-0.190321</td>\n",
              "      <td>-1.175575</td>\n",
              "      <td>0.647376</td>\n",
              "      <td>-0.221929</td>\n",
              "      <td>0.062723</td>\n",
              "      <td>0.061458</td>\n",
              "      <td>123.50</td>\n",
              "      <td>0.0</td>\n",
              "    </tr>\n",
              "    <tr>\n",
              "      <th>4</th>\n",
              "      <td>2.0</td>\n",
              "      <td>-1.158233</td>\n",
              "      <td>0.877737</td>\n",
              "      <td>1.548718</td>\n",
              "      <td>0.403034</td>\n",
              "      <td>-0.407193</td>\n",
              "      <td>0.095921</td>\n",
              "      <td>0.592941</td>\n",
              "      <td>-0.270533</td>\n",
              "      <td>0.817739</td>\n",
              "      <td>...</td>\n",
              "      <td>-0.009431</td>\n",
              "      <td>0.798278</td>\n",
              "      <td>-0.137458</td>\n",
              "      <td>0.141267</td>\n",
              "      <td>-0.206010</td>\n",
              "      <td>0.502292</td>\n",
              "      <td>0.219422</td>\n",
              "      <td>0.215153</td>\n",
              "      <td>69.99</td>\n",
              "      <td>0.0</td>\n",
              "    </tr>\n",
              "    <tr>\n",
              "      <th>...</th>\n",
              "      <td>...</td>\n",
              "      <td>...</td>\n",
              "      <td>...</td>\n",
              "      <td>...</td>\n",
              "      <td>...</td>\n",
              "      <td>...</td>\n",
              "      <td>...</td>\n",
              "      <td>...</td>\n",
              "      <td>...</td>\n",
              "      <td>...</td>\n",
              "      <td>...</td>\n",
              "      <td>...</td>\n",
              "      <td>...</td>\n",
              "      <td>...</td>\n",
              "      <td>...</td>\n",
              "      <td>...</td>\n",
              "      <td>...</td>\n",
              "      <td>...</td>\n",
              "      <td>...</td>\n",
              "      <td>...</td>\n",
              "      <td>...</td>\n",
              "    </tr>\n",
              "    <tr>\n",
              "      <th>182324</th>\n",
              "      <td>125352.0</td>\n",
              "      <td>1.692781</td>\n",
              "      <td>-0.201306</td>\n",
              "      <td>-2.519907</td>\n",
              "      <td>1.461904</td>\n",
              "      <td>0.701510</td>\n",
              "      <td>-1.542165</td>\n",
              "      <td>1.432738</td>\n",
              "      <td>-0.730228</td>\n",
              "      <td>-0.371054</td>\n",
              "      <td>...</td>\n",
              "      <td>0.433586</td>\n",
              "      <td>0.993490</td>\n",
              "      <td>-0.425314</td>\n",
              "      <td>0.049406</td>\n",
              "      <td>0.824836</td>\n",
              "      <td>-0.217694</td>\n",
              "      <td>-0.091423</td>\n",
              "      <td>-0.041195</td>\n",
              "      <td>216.88</td>\n",
              "      <td>0.0</td>\n",
              "    </tr>\n",
              "    <tr>\n",
              "      <th>182325</th>\n",
              "      <td>125352.0</td>\n",
              "      <td>-0.507947</td>\n",
              "      <td>-0.546918</td>\n",
              "      <td>2.291673</td>\n",
              "      <td>-2.112876</td>\n",
              "      <td>-0.845382</td>\n",
              "      <td>-0.425270</td>\n",
              "      <td>-0.858402</td>\n",
              "      <td>0.256730</td>\n",
              "      <td>-0.103172</td>\n",
              "      <td>...</td>\n",
              "      <td>0.512459</td>\n",
              "      <td>1.377962</td>\n",
              "      <td>-0.181414</td>\n",
              "      <td>-0.003468</td>\n",
              "      <td>-0.405188</td>\n",
              "      <td>-0.195736</td>\n",
              "      <td>0.166438</td>\n",
              "      <td>0.161655</td>\n",
              "      <td>0.02</td>\n",
              "      <td>0.0</td>\n",
              "    </tr>\n",
              "    <tr>\n",
              "      <th>182326</th>\n",
              "      <td>125353.0</td>\n",
              "      <td>-1.841495</td>\n",
              "      <td>-1.506387</td>\n",
              "      <td>0.115844</td>\n",
              "      <td>0.057029</td>\n",
              "      <td>-0.202438</td>\n",
              "      <td>-0.100570</td>\n",
              "      <td>0.289007</td>\n",
              "      <td>0.592253</td>\n",
              "      <td>0.040401</td>\n",
              "      <td>...</td>\n",
              "      <td>0.715507</td>\n",
              "      <td>1.007318</td>\n",
              "      <td>0.636655</td>\n",
              "      <td>-0.572371</td>\n",
              "      <td>-0.692105</td>\n",
              "      <td>-0.300111</td>\n",
              "      <td>0.046361</td>\n",
              "      <td>-0.025163</td>\n",
              "      <td>327.28</td>\n",
              "      <td>0.0</td>\n",
              "    </tr>\n",
              "    <tr>\n",
              "      <th>182327</th>\n",
              "      <td>125353.0</td>\n",
              "      <td>-2.134618</td>\n",
              "      <td>0.341463</td>\n",
              "      <td>1.033744</td>\n",
              "      <td>-0.368409</td>\n",
              "      <td>0.547263</td>\n",
              "      <td>0.069410</td>\n",
              "      <td>0.439602</td>\n",
              "      <td>-0.292193</td>\n",
              "      <td>2.044366</td>\n",
              "      <td>...</td>\n",
              "      <td>-0.289225</td>\n",
              "      <td>0.605464</td>\n",
              "      <td>-0.323988</td>\n",
              "      <td>0.651900</td>\n",
              "      <td>1.004900</td>\n",
              "      <td>0.786506</td>\n",
              "      <td>-0.757787</td>\n",
              "      <td>-0.813204</td>\n",
              "      <td>12.85</td>\n",
              "      <td>0.0</td>\n",
              "    </tr>\n",
              "    <tr>\n",
              "      <th>182328</th>\n",
              "      <td>125353.0</td>\n",
              "      <td>-0.499334</td>\n",
              "      <td>0.466251</td>\n",
              "      <td>1.293522</td>\n",
              "      <td>-0.763016</td>\n",
              "      <td>0.900678</td>\n",
              "      <td>1.780179</td>\n",
              "      <td>0.134590</td>\n",
              "      <td>0.391000</td>\n",
              "      <td>NaN</td>\n",
              "      <td>...</td>\n",
              "      <td>NaN</td>\n",
              "      <td>NaN</td>\n",
              "      <td>NaN</td>\n",
              "      <td>NaN</td>\n",
              "      <td>NaN</td>\n",
              "      <td>NaN</td>\n",
              "      <td>NaN</td>\n",
              "      <td>NaN</td>\n",
              "      <td>NaN</td>\n",
              "      <td>NaN</td>\n",
              "    </tr>\n",
              "  </tbody>\n",
              "</table>\n",
              "<p>182329 rows × 31 columns</p>\n",
              "</div>\n",
              "      <button class=\"colab-df-convert\" onclick=\"convertToInteractive('df-8f8353e0-a59d-47a5-8062-023a0d1dff8c')\"\n",
              "              title=\"Convert this dataframe to an interactive table.\"\n",
              "              style=\"display:none;\">\n",
              "        \n",
              "  <svg xmlns=\"http://www.w3.org/2000/svg\" height=\"24px\"viewBox=\"0 0 24 24\"\n",
              "       width=\"24px\">\n",
              "    <path d=\"M0 0h24v24H0V0z\" fill=\"none\"/>\n",
              "    <path d=\"M18.56 5.44l.94 2.06.94-2.06 2.06-.94-2.06-.94-.94-2.06-.94 2.06-2.06.94zm-11 1L8.5 8.5l.94-2.06 2.06-.94-2.06-.94L8.5 2.5l-.94 2.06-2.06.94zm10 10l.94 2.06.94-2.06 2.06-.94-2.06-.94-.94-2.06-.94 2.06-2.06.94z\"/><path d=\"M17.41 7.96l-1.37-1.37c-.4-.4-.92-.59-1.43-.59-.52 0-1.04.2-1.43.59L10.3 9.45l-7.72 7.72c-.78.78-.78 2.05 0 2.83L4 21.41c.39.39.9.59 1.41.59.51 0 1.02-.2 1.41-.59l7.78-7.78 2.81-2.81c.8-.78.8-2.07 0-2.86zM5.41 20L4 18.59l7.72-7.72 1.47 1.35L5.41 20z\"/>\n",
              "  </svg>\n",
              "      </button>\n",
              "      \n",
              "  <style>\n",
              "    .colab-df-container {\n",
              "      display:flex;\n",
              "      flex-wrap:wrap;\n",
              "      gap: 12px;\n",
              "    }\n",
              "\n",
              "    .colab-df-convert {\n",
              "      background-color: #E8F0FE;\n",
              "      border: none;\n",
              "      border-radius: 50%;\n",
              "      cursor: pointer;\n",
              "      display: none;\n",
              "      fill: #1967D2;\n",
              "      height: 32px;\n",
              "      padding: 0 0 0 0;\n",
              "      width: 32px;\n",
              "    }\n",
              "\n",
              "    .colab-df-convert:hover {\n",
              "      background-color: #E2EBFA;\n",
              "      box-shadow: 0px 1px 2px rgba(60, 64, 67, 0.3), 0px 1px 3px 1px rgba(60, 64, 67, 0.15);\n",
              "      fill: #174EA6;\n",
              "    }\n",
              "\n",
              "    [theme=dark] .colab-df-convert {\n",
              "      background-color: #3B4455;\n",
              "      fill: #D2E3FC;\n",
              "    }\n",
              "\n",
              "    [theme=dark] .colab-df-convert:hover {\n",
              "      background-color: #434B5C;\n",
              "      box-shadow: 0px 1px 3px 1px rgba(0, 0, 0, 0.15);\n",
              "      filter: drop-shadow(0px 1px 2px rgba(0, 0, 0, 0.3));\n",
              "      fill: #FFFFFF;\n",
              "    }\n",
              "  </style>\n",
              "\n",
              "      <script>\n",
              "        const buttonEl =\n",
              "          document.querySelector('#df-8f8353e0-a59d-47a5-8062-023a0d1dff8c button.colab-df-convert');\n",
              "        buttonEl.style.display =\n",
              "          google.colab.kernel.accessAllowed ? 'block' : 'none';\n",
              "\n",
              "        async function convertToInteractive(key) {\n",
              "          const element = document.querySelector('#df-8f8353e0-a59d-47a5-8062-023a0d1dff8c');\n",
              "          const dataTable =\n",
              "            await google.colab.kernel.invokeFunction('convertToInteractive',\n",
              "                                                     [key], {});\n",
              "          if (!dataTable) return;\n",
              "\n",
              "          const docLinkHtml = 'Like what you see? Visit the ' +\n",
              "            '<a target=\"_blank\" href=https://colab.research.google.com/notebooks/data_table.ipynb>data table notebook</a>'\n",
              "            + ' to learn more about interactive tables.';\n",
              "          element.innerHTML = '';\n",
              "          dataTable['output_type'] = 'display_data';\n",
              "          await google.colab.output.renderOutput(dataTable, element);\n",
              "          const docLink = document.createElement('div');\n",
              "          docLink.innerHTML = docLinkHtml;\n",
              "          element.appendChild(docLink);\n",
              "        }\n",
              "      </script>\n",
              "    </div>\n",
              "  </div>\n",
              "  "
            ]
          },
          "metadata": {},
          "execution_count": 8
        }
      ]
    }
  ]
}